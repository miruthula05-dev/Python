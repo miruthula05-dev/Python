{
  "nbformat": 4,
  "nbformat_minor": 0,
  "metadata": {
    "colab": {
      "provenance": [],
      "toc_visible": true,
      "authorship_tag": "ABX9TyMy6p6PHDOl8TBSHk9c1g04",
      "include_colab_link": true
    },
    "kernelspec": {
      "name": "python3",
      "display_name": "Python 3"
    },
    "language_info": {
      "name": "python"
    }
  },
  "cells": [
    {
      "cell_type": "markdown",
      "metadata": {
        "id": "view-in-github",
        "colab_type": "text"
      },
      "source": [
        "<a href=\"https://colab.research.google.com/github/miruthula05-dev/Python/blob/master/Python_Coding.ipynb\" target=\"_parent\"><img src=\"https://colab.research.google.com/assets/colab-badge.svg\" alt=\"Open In Colab\"/></a>"
      ]
    },
    {
      "cell_type": "markdown",
      "source": [
        "# **List Questions**"
      ],
      "metadata": {
        "id": "C3JLacQ6a0C6"
      }
    },
    {
      "cell_type": "markdown",
      "source": [
        "## 1_find palindrome in a list"
      ],
      "metadata": {
        "id": "gHsqlAbymqN2"
      }
    },
    {
      "cell_type": "code",
      "source": [
        "def is_palindrome(lst):\n",
        "    \"\"\"\n",
        "    Function to check if a list is a palindrome.\n",
        "    :param lst: List[int] -> List of integers\n",
        "    :return: bool -> True if the list is a palindrome, False otherwise\n",
        "    \"\"\"\n",
        "    new_lst= []\n",
        "    for i in range(len(lst)-1, -1, -1):\n",
        "      new_lst.append(lst[i])\n",
        "\n",
        "    return new_lst == lst\n",
        "\n",
        "print(is_palindrome([1,2,3,4,3,2,1]))\n"
      ],
      "metadata": {
        "colab": {
          "base_uri": "https://localhost:8080/"
        },
        "id": "P3pJmn2Ymt-I",
        "outputId": "6d26d9c0-2021-4107-b0a4-300cb8323c4e"
      },
      "execution_count": null,
      "outputs": [
        {
          "output_type": "stream",
          "name": "stdout",
          "text": [
            "True\n"
          ]
        }
      ]
    },
    {
      "cell_type": "markdown",
      "source": [
        "## 2_count transition"
      ],
      "metadata": {
        "id": "f9_sSK7l2mWA"
      }
    },
    {
      "cell_type": "code",
      "source": [
        "def change_count(lst):\n",
        "  count = 0\n",
        "\n",
        "  for i in range(len(lst)-1):\n",
        "    if lst[i] != lst[i+1]:\n",
        "      count += 1\n",
        "\n",
        "  return count\n",
        "\n",
        "print(change_count([0,1,0,0,1,1,0,0,1,1]))\n"
      ],
      "metadata": {
        "colab": {
          "base_uri": "https://localhost:8080/"
        },
        "id": "--fxexS-2pIC",
        "outputId": "4d2f1123-dce6-42e5-ff66-4daec1cc3a23"
      },
      "execution_count": null,
      "outputs": [
        {
          "output_type": "stream",
          "name": "stdout",
          "text": [
            "5\n"
          ]
        }
      ]
    },
    {
      "cell_type": "markdown",
      "source": [
        "## 3_reverse a list"
      ],
      "metadata": {
        "id": "rAOoS7RnnaLx"
      }
    },
    {
      "cell_type": "code",
      "source": [
        "def reverse_lst(lst):\n",
        "    \"\"\"\n",
        "    Function to check if a list is a palindrome.\n",
        "    :param lst: List[int] -> List of integers\n",
        "    :return: bool -> True if the list is a palindrome, False otherwise\n",
        "    \"\"\"\n",
        "    new_lst= []\n",
        "    for i in range(len(lst)-1, -1, -1):\n",
        "      new_lst.append(lst[i])\n",
        "\n",
        "    return new_lst\n",
        "\n",
        "print(reverse_lst([1,2,3,4,5]))"
      ],
      "metadata": {
        "colab": {
          "base_uri": "https://localhost:8080/"
        },
        "id": "5eb7XIrbndK9",
        "outputId": "cfb7863e-302f-4523-d95f-30c2aefb47ad"
      },
      "execution_count": null,
      "outputs": [
        {
          "output_type": "stream",
          "name": "stdout",
          "text": [
            "[5, 4, 3, 2, 1]\n"
          ]
        }
      ]
    },
    {
      "cell_type": "markdown",
      "source": [],
      "metadata": {
        "id": "pJLtPU784umY"
      }
    },
    {
      "cell_type": "code",
      "source": [
        "\n"
      ],
      "metadata": {
        "colab": {
          "base_uri": "https://localhost:8080/"
        },
        "id": "jo_CiSOVyg1I",
        "outputId": "257385e7-1f27-48ce-a773-484a1b3d000d"
      },
      "execution_count": null,
      "outputs": [
        {
          "output_type": "stream",
          "name": "stdout",
          "text": [
            "olleh\n"
          ]
        }
      ]
    },
    {
      "cell_type": "markdown",
      "source": [
        "## 4_increment by one"
      ],
      "metadata": {
        "id": "C1r2_5BI4vQY"
      }
    },
    {
      "cell_type": "code",
      "source": [
        "def increment_by_one(digits):\n",
        "    # Start from the last digit (rightmost)\n",
        "    for i in range(len(digits) - 1, -1, -1):  # Traverse the list from the end to the start\n",
        "        if digits[i] < 9:  # If the current digit is less than 9\n",
        "            digits[i] += 1  # Just add 1 to it, no carry needed\n",
        "            return digits  # Return the updated list, as no further changes are needed\n",
        "        digits[i] = 0  # If the digit is 9, set it to 0 and carry over 1 to the next digit\n",
        "\n",
        "    # If we exit the loop, it means we had a carry over past the most significant digit\n",
        "    return [1] + digits  # Add '1' at the beginning of the list (carry over to a new place)\n",
        "\n",
        "print(increment_by_one([1,2,3]))"
      ],
      "metadata": {
        "colab": {
          "base_uri": "https://localhost:8080/"
        },
        "id": "RuJW5FJi4xoM",
        "outputId": "89862b67-1b94-4740-eac9-f2af01bf2278"
      },
      "execution_count": null,
      "outputs": [
        {
          "output_type": "stream",
          "name": "stdout",
          "text": [
            "[1, 2, 4]\n"
          ]
        }
      ]
    },
    {
      "cell_type": "markdown",
      "source": [
        "##  5_Max element in a list"
      ],
      "metadata": {
        "id": "h9LwVxaYk-mb"
      }
    },
    {
      "cell_type": "code",
      "source": [
        "def max_lst(lst):\n",
        "  maxi = lst[0]\n",
        "  for i in lst:\n",
        "    if i > maxi:\n",
        "      maxi = i\n",
        "  return maxi\n",
        "\n",
        "print(max_lst([1,2,3,4,5]))\n",
        "\n"
      ],
      "metadata": {
        "colab": {
          "base_uri": "https://localhost:8080/"
        },
        "id": "gdkp3z9wlDI2",
        "outputId": "5e0be7cb-3f6e-4a25-ac22-721a96c6b7fe"
      },
      "execution_count": null,
      "outputs": [
        {
          "output_type": "stream",
          "name": "stdout",
          "text": [
            "5\n"
          ]
        }
      ]
    },
    {
      "cell_type": "markdown",
      "source": [
        "## 6_Sum of element in a list"
      ],
      "metadata": {
        "id": "7TaB_JTRltXz"
      }
    },
    {
      "cell_type": "code",
      "source": [
        "def find_sum(lst):\n",
        "  sum = 0\n",
        "  for i in lst:\n",
        "    sum += i\n",
        "  return sum\n",
        "\n",
        "print(find_sum([1,2,3,4,5]))"
      ],
      "metadata": {
        "colab": {
          "base_uri": "https://localhost:8080/"
        },
        "id": "jK-DaBbglymq",
        "outputId": "c9ae4153-4b35-4b21-d0f4-b6cf16c0c523"
      },
      "execution_count": null,
      "outputs": [
        {
          "output_type": "stream",
          "name": "stdout",
          "text": [
            "15\n"
          ]
        }
      ]
    },
    {
      "cell_type": "markdown",
      "source": [
        "## 7_max consequetive ones"
      ],
      "metadata": {
        "id": "wds23leJgNMB"
      }
    },
    {
      "cell_type": "code",
      "source": [
        "def find_max_consecutive_ones(nums):\n",
        "    \"\"\"\n",
        "    Function to find the maximum number of consecutive 1's in a binary array.\n",
        "    :param nums: List[int] -> A binary array where each element is either 0 or 1\n",
        "    :return: int -> The maximum number of consecutive 1's\n",
        "    \"\"\"\n",
        "    max_count = 0  # To track the maximum number of consecutive 1's\n",
        "    current_count = 0  # To track the current streak of consecutive 1's\n",
        "\n",
        "    for num in nums:\n",
        "        if num == 1:\n",
        "            current_count += 1  # Increment the current streak if it's 1\n",
        "            max_count = max(max_count, current_count)  # Update max if current streak is greater\n",
        "        else:\n",
        "            current_count = 0  # Reset the streak if 0 is encountered\n",
        "\n",
        "    return max_count\n",
        "\n",
        "# Example usage:\n",
        "print(find_max_consecutive_ones([1, 0, 1, 1, 1]))  # Output should be 3\n"
      ],
      "metadata": {
        "colab": {
          "base_uri": "https://localhost:8080/"
        },
        "outputId": "bd42de0d-69da-4b0c-f64d-f9602f45d86b",
        "id": "kjKq6XiRgNMB"
      },
      "execution_count": null,
      "outputs": [
        {
          "output_type": "stream",
          "name": "stdout",
          "text": [
            "3\n"
          ]
        }
      ]
    },
    {
      "cell_type": "markdown",
      "source": [
        "## 8_Remove Duplicate in a List\n"
      ],
      "metadata": {
        "id": "RzcGGykkDvJi"
      }
    },
    {
      "cell_type": "code",
      "source": [
        "li = [1,2,2,3,4,4]\n",
        "\n",
        "new_li = []\n",
        "\n",
        "for i in range(0, len(li)):\n",
        "  if li[i] not in new_li:\n",
        "    new_li.append(li[i])\n",
        "\n",
        "new_li\n",
        "\n"
      ],
      "metadata": {
        "id": "WOVKaiDBDzSc",
        "colab": {
          "base_uri": "https://localhost:8080/"
        },
        "outputId": "9f061848-386a-48aa-ce37-e1043d3f580a"
      },
      "execution_count": null,
      "outputs": [
        {
          "output_type": "execute_result",
          "data": {
            "text/plain": [
              "[1, 2, 3, 4]"
            ]
          },
          "metadata": {},
          "execution_count": 1
        }
      ]
    },
    {
      "cell_type": "markdown",
      "source": [
        "## 9_Count Number of Odd and Even Elements in a List"
      ],
      "metadata": {
        "id": "NHrhOBG6i8bl"
      }
    },
    {
      "cell_type": "code",
      "source": [
        "li = [1,2,3,4,5,6,7,8,9]\n",
        "\n",
        "odd_count = 0\n",
        "eve_count = 0\n",
        "\n",
        "for i in range(len(li)):\n",
        "  if li[i] % 2:\n",
        "    odd_count += 1\n",
        "  else:\n",
        "    eve_count += 1\n",
        "\n",
        "\n",
        "print(\"Odd = \", odd_count)\n",
        "print(\"even = \", eve_count)"
      ],
      "metadata": {
        "colab": {
          "base_uri": "https://localhost:8080/"
        },
        "id": "paAts6Y7i-k9",
        "outputId": "f9f0ce5e-eb92-4896-cc87-d1551bc00d49"
      },
      "execution_count": null,
      "outputs": [
        {
          "output_type": "stream",
          "name": "stdout",
          "text": [
            "Odd =  5\n",
            "even =  4\n"
          ]
        }
      ]
    },
    {
      "cell_type": "markdown",
      "source": [
        "## 10_Maximum difference between two consecutive elements in a list."
      ],
      "metadata": {
        "id": "XnheM0A6jZGI"
      }
    },
    {
      "cell_type": "code",
      "source": [
        "li = [1,2,4,10,90,60]\n",
        "\n",
        "diff = 0\n",
        "\n",
        "for i in range(len(li)-1):\n",
        "  if li[i+1] - li[i] > diff:\n",
        "    diff = li[i+1] - li[i]\n",
        "\n",
        "diff"
      ],
      "metadata": {
        "colab": {
          "base_uri": "https://localhost:8080/"
        },
        "id": "qBpzFzVrjb4d",
        "outputId": "d0d5237d-1d66-4b1c-c70a-40711e095658"
      },
      "execution_count": null,
      "outputs": [
        {
          "output_type": "execute_result",
          "data": {
            "text/plain": [
              "80"
            ]
          },
          "metadata": {},
          "execution_count": 6
        }
      ]
    },
    {
      "cell_type": "markdown",
      "source": [
        "## 11_Merge two sorted lists into one sorted list"
      ],
      "metadata": {
        "id": "Zn_BSv7ckEGE"
      }
    },
    {
      "cell_type": "code",
      "source": [
        "li_1 = [1,5,7,9,13]\n",
        "li_2 = [2,4,6,8,10]\n",
        "\n",
        "merge_li = []\n",
        "i = 0\n",
        "j = 0\n",
        "\n",
        "while (i < len(li_1) and j < len(li_2)):\n",
        "  if li_1[i] < li_2[j]:\n",
        "    merge_li.append(li_1[i])\n",
        "    i += 1\n",
        "  else:\n",
        "    merge_li.append(li_2[j])\n",
        "    j += 1\n",
        "\n",
        "while i < len(li_1):\n",
        "  merge_li.append(li_1[i])\n",
        "  i += 1\n",
        "\n",
        "    # Append remaining elements of list2 (if any)\n",
        "while j < len(li_2):\n",
        "  merge_li.append(li_2[j])\n",
        "  j += 1\n",
        "\n",
        "merge_li\n"
      ],
      "metadata": {
        "colab": {
          "base_uri": "https://localhost:8080/"
        },
        "id": "OGjeJ8jLkUqc",
        "outputId": "4b78ea88-ae05-41c6-da90-44fae205ec57"
      },
      "execution_count": null,
      "outputs": [
        {
          "output_type": "execute_result",
          "data": {
            "text/plain": [
              "[1, 2, 4, 5, 6, 7, 8, 9, 10, 13]"
            ]
          },
          "metadata": {},
          "execution_count": 14
        }
      ]
    },
    {
      "cell_type": "markdown",
      "source": [
        "## 12_Rotate a List"
      ],
      "metadata": {
        "id": "OcVW6FTfmQIX"
      }
    },
    {
      "cell_type": "code",
      "source": [
        "def rotate_list(lst, k, direction=\"right\"):\n",
        "    \"\"\"\n",
        "    Rotate a list by k positions.\n",
        "\n",
        "    :param lst: The list to rotate\n",
        "    :param k: Number of positions to rotate\n",
        "    :param direction: Direction of rotation ('right' or 'left')\n",
        "    :return: Rotated list\n",
        "    \"\"\"\n",
        "    r_li = []\n",
        "    n = len(lst)\n",
        "\n",
        "    if direction == 'left':\n",
        "\n",
        "      for i in range(k, n):\n",
        "        r_li.append(lst[i])\n",
        "\n",
        "      for i in range(0, k):\n",
        "        r_li.append(lst[i])\n",
        "\n",
        "      return r_li\n",
        "\n",
        "    if direction == 'right':\n",
        "\n",
        "      for i in range(n-k, n): #[4,1,2,3]\n",
        "        r_li.append(lst[i])\n",
        "\n",
        "      for i in range(0, n-k):\n",
        "        r_li.append(lst[i])\n",
        "\n",
        "      return r_li\n",
        "\n",
        "lst = [1,2,3,4]\n",
        "\n",
        "li = rotate_list(lst, 1, \"right\")\n",
        "\n",
        "li\n",
        "\n",
        "\n"
      ],
      "metadata": {
        "colab": {
          "base_uri": "https://localhost:8080/"
        },
        "id": "LOynPlmtmTGu",
        "outputId": "546c5cea-3061-4bde-a28f-6874cb3ca6a7"
      },
      "execution_count": null,
      "outputs": [
        {
          "output_type": "execute_result",
          "data": {
            "text/plain": [
              "[4, 1, 2, 3]"
            ]
          },
          "metadata": {},
          "execution_count": 18
        }
      ]
    },
    {
      "cell_type": "markdown",
      "source": [
        "## 13_Merge 2 List into Dictionary"
      ],
      "metadata": {
        "id": "ktvM9oKDp9r5"
      }
    },
    {
      "cell_type": "code",
      "source": [
        "dict_1 = {}\n",
        "\n",
        "li_1 = [1,2,3]\n",
        "li_2 = ['a','b','c']\n",
        "\n",
        "min =  len(li_1) if len(li_1) < len(li_2) else len(li_2)\n",
        "\n",
        "for i in range(min):\n",
        "  dict_1[li_1[i]] = li_2[i]\n",
        "\n",
        "dict_1\n",
        "\n"
      ],
      "metadata": {
        "colab": {
          "base_uri": "https://localhost:8080/"
        },
        "id": "iXygyCRJqA2a",
        "outputId": "23605778-09b6-4235-945e-84e7da1a27a7"
      },
      "execution_count": null,
      "outputs": [
        {
          "output_type": "execute_result",
          "data": {
            "text/plain": [
              "{1: 'a', 2: 'b', 3: 'c'}"
            ]
          },
          "metadata": {},
          "execution_count": 19
        }
      ]
    },
    {
      "cell_type": "markdown",
      "source": [
        "## 14_To check if a list is a subset of another list"
      ],
      "metadata": {
        "id": "KLK8CAv76AWY"
      }
    },
    {
      "cell_type": "code",
      "source": [
        "# To check if a list is a subset of another list, you can compare the elements of the first\n",
        "#  list with the elements of the second list. A subset means all elements of the first list must\n",
        "#  be present in the second list, but not necessarily in the same order or contiguous.\n",
        "\n",
        "def is_subset_manual(list1, list2):\n",
        "    \"\"\"\n",
        "    Check if list1 is a subset of list2 without using in-built functions like 'in' or 'set()'.\n",
        "\n",
        "    :param list1: The first list\n",
        "    :param list2: The second list\n",
        "    :return: True if list1 is a subset of list2, False otherwise\n",
        "    \"\"\"\n",
        "    # For each element in list1, check if it is in list2\n",
        "    for item in list1:\n",
        "        found = False  # Flag to check if the item is found in list2\n",
        "        for elem in list2:\n",
        "            if item == elem:\n",
        "                found = True\n",
        "                break  # Break inner loop if item is found\n",
        "        if not found:\n",
        "            return False  # Return False if any element is not found in list2\n",
        "    return True  # Return True if all elements of list1 are found in list2\n",
        "\n",
        "# Example usage\n",
        "list1 = [1, 2, 3]\n",
        "list2 = [1, 2, 3, 4, 5]\n",
        "print(is_subset_manual(list1, list2))  # Output: True\n",
        "\n",
        "list3 = [1, 6]\n",
        "print(is_subset_manual(list3, list2))  # Output: False\n",
        "\n"
      ],
      "metadata": {
        "id": "Acq0Fxbs6C0_"
      },
      "execution_count": null,
      "outputs": []
    },
    {
      "cell_type": "markdown",
      "source": [
        "## 15_give all the subset of a given list"
      ],
      "metadata": {
        "id": "RHFYvaHw6Bsi"
      }
    },
    {
      "cell_type": "code",
      "source": [
        "def all_subsets(lst):\n",
        "    result = [[]]  # Start with an empty subset\n",
        "\n",
        "    for i in lst:\n",
        "      result += [current + [i] for current in result]\n",
        "    return result[1:]  # Remove empty subset if not needed\n",
        "\n",
        "# Example\n",
        "print(all_subsets([1, 2, 3]))\n"
      ],
      "metadata": {
        "colab": {
          "base_uri": "https://localhost:8080/"
        },
        "id": "J9FZDQPB9qpa",
        "outputId": "5dec0077-a05f-498e-9cad-4488fa610231"
      },
      "execution_count": null,
      "outputs": [
        {
          "output_type": "stream",
          "name": "stdout",
          "text": [
            "[[1], [2], [1, 2], [3], [1, 3], [2, 3], [1, 2, 3]]\n"
          ]
        }
      ]
    },
    {
      "cell_type": "markdown",
      "source": [
        "## 16_Two Sum - Leetcode1"
      ],
      "metadata": {
        "id": "eSjPxMtgqZzQ"
      }
    },
    {
      "cell_type": "code",
      "source": [
        "# Given an array of integers nums and an integer target, return indices of\n",
        "# the two numbers such that they add up to target.\n",
        "\n",
        "# You cannot use the same element twice.\n",
        "# You can return the answer in any order.\n",
        "# Assume there is exactly one solution.\n",
        "\n",
        "\n",
        "# nums = [2, 7, 11, 15]\n",
        "# target = 9\n",
        "# output = [0, 1]\n",
        "\n",
        "# Brute Force approach\n",
        "\n",
        "def two_sum(lst, target):\n",
        "  for i in range(len(lst)):\n",
        "    for j in range(i+1, len(lst)):\n",
        "      if lst[i] + lst[j] == target:\n",
        "        return i,j\n",
        "\n",
        "print(two_sum([2, 7, 11, 15], 9))\n",
        "print(two_sum([3,2,4], 6))\n",
        "\n",
        "# 🔹 Time Complexity\n",
        "# O(n²) because we check every pair (i, j).\n",
        "# Works fine for small lists, but slow for large inputs.\n",
        "\n",
        "def two_sum_optimized(nums, target):\n",
        "    num_map = {}  # Dictionary to store (value → index)\n",
        "\n",
        "    for i, num in enumerate(nums):\n",
        "        complement = target - num  # Find complement needed\n",
        "\n",
        "        if complement in num_map:  # If complement exists, return indices\n",
        "            return [num_map[complement], i]\n",
        "\n",
        "        num_map[num] = i  # Store the number in hashmap\n",
        "# Optimized (HashMap)\tO(n)\n"
      ],
      "metadata": {
        "colab": {
          "base_uri": "https://localhost:8080/"
        },
        "id": "lVYuwIwLqc_M",
        "outputId": "2be7fbb5-4beb-4948-c1e5-1fe9f2e3fb4a"
      },
      "execution_count": null,
      "outputs": [
        {
          "output_type": "stream",
          "name": "stdout",
          "text": [
            "(0, 1)\n",
            "(1, 2)\n"
          ]
        }
      ]
    },
    {
      "cell_type": "markdown",
      "source": [
        "## 17_Remove Duplicates from Sorted Array - LeetCode 26"
      ],
      "metadata": {
        "id": "V0DO0bSFvwAW"
      }
    },
    {
      "cell_type": "code",
      "source": [
        "# Given a sorted array nums, remove the duplicates in-place such that each element appears only once.\n",
        "# The relative order of the elements must be maintained.\n",
        "\n",
        "# 👉 You must modify the input array in-place and return the new length of the modified array.\n",
        "\n",
        "# 🚨 Do not use extra space for another array.\n",
        "\n",
        "# nums = [0,0,1,1,1,2,2,3,3,4]\n",
        "# Output:\n",
        "# 5, nums = [0,1,2,3,4, _, _, _, _, _]\n",
        "\n",
        "def remove_duplicates(nums):\n",
        "    if not nums:\n",
        "        return 0  # Edge case: empty array\n",
        "\n",
        "    i = 0  # Pointer to store unique elements\n",
        "\n",
        "    for j in range(1, len(nums)):\n",
        "        if nums[j] != nums[i]:  # Found a new unique number\n",
        "            i += 1  # Move pointer forward\n",
        "            nums[i] = nums[j]  # Overwrite duplicate\n",
        "\n",
        "    return i + 1  # Length of unique elements\n",
        "\n",
        "\n",
        "print(remove_duplicates([0,0,1,1,1,2,2,3,3,4]))\n",
        "\n",
        "# Use two pointers (i for unique elements, j for traversal).\n",
        "# Modify the array in-place and return the new length.\n",
        "# Time Complexity: O(n), Space Complexity: O(1)."
      ],
      "metadata": {
        "colab": {
          "base_uri": "https://localhost:8080/"
        },
        "id": "8fVCoCGBvyqd",
        "outputId": "1b770359-b742-45f6-f748-e6ade9072298"
      },
      "execution_count": null,
      "outputs": [
        {
          "output_type": "stream",
          "name": "stdout",
          "text": [
            "5\n"
          ]
        }
      ]
    },
    {
      "cell_type": "markdown",
      "source": [
        "## 18_Majority Element - Leetcode169"
      ],
      "metadata": {
        "id": "2dRzdKgRzISw"
      }
    },
    {
      "cell_type": "code",
      "source": [
        "def majority_element(arr):\n",
        "  dict = {}\n",
        "\n",
        "  for num in arr:\n",
        "    if num not in dict:\n",
        "      dict[num] = 1\n",
        "    else:\n",
        "      dict[num] += 1\n",
        "\n",
        "  n = len(arr)\n",
        "  for key, value in dict.items():\n",
        "      if value > n // 2:\n",
        "          return key  # Return the majority element\n",
        "\n",
        "  return None\n",
        "\n",
        "print(majority_element([4,4,2,4,3]))\n",
        "\n",
        "# Optimized (HashMap)\tO(n)\tO(n)\n",
        "\n"
      ],
      "metadata": {
        "colab": {
          "base_uri": "https://localhost:8080/"
        },
        "id": "6v__MzjdzKgP",
        "outputId": "83396770-7c8f-4093-d3d0-2306587826a5"
      },
      "execution_count": null,
      "outputs": [
        {
          "output_type": "stream",
          "name": "stdout",
          "text": [
            "4\n"
          ]
        }
      ]
    },
    {
      "cell_type": "code",
      "source": [],
      "metadata": {
        "id": "ba-kJOp2zH3B"
      },
      "execution_count": null,
      "outputs": []
    },
    {
      "cell_type": "markdown",
      "source": [
        "## 19_Buy sell Leetcode\n"
      ],
      "metadata": {
        "id": "lIaJnT6F3Wfq"
      }
    },
    {
      "cell_type": "code",
      "source": [
        "def max_profit_brute(prices):\n",
        "    max_profit = 0  # Initialize max profit\n",
        "\n",
        "    for i in range(len(prices)):  # Buy day\n",
        "        for j in range(i + 1, len(prices)):  # Sell day (must be after buy day)\n",
        "            profit = prices[j] - prices[i]  # Profit if bought at i and sold at j\n",
        "            max_profit = max(max_profit, profit)  # Update max profit if better\n",
        "\n",
        "    return max_profit\n",
        "prices = [7,1,5,3,6,4]\n",
        "print(max_profit_brute(prices))\n",
        "\n",
        "# Efficient code\n",
        "\n",
        "def max_profit(prices):\n",
        "    if not prices:  # Edge case: empty list\n",
        "        return 0\n",
        "\n",
        "    min_price = float('inf')  # Start with a very high value\n",
        "    max_profit = 0  # Initialize profit to 0\n",
        "\n",
        "    for price in prices:\n",
        "        if price < min_price:\n",
        "            min_price = price  # Update minimum price\n",
        "        elif price - min_price > max_profit:\n",
        "            max_profit = price - min_price  # Update max profit if it's better\n",
        "\n",
        "    return max_profit\n"
      ],
      "metadata": {
        "id": "S1HRJ-3R3aTk"
      },
      "execution_count": null,
      "outputs": []
    },
    {
      "cell_type": "markdown",
      "source": [
        "## 20_\"Contains Duplicate\" (LeetCode 217)"
      ],
      "metadata": {
        "id": "8qaNlri-4l2D"
      }
    },
    {
      "cell_type": "code",
      "source": [
        "# Given an integer array nums, return True if any value appears at least twice in the array. Otherwise, return False.\n",
        "\n",
        "def contains_duplicate(arr):\n",
        "    unique = []  # Stores unique elements\n",
        "\n",
        "    for num in arr:\n",
        "        if num in unique:  # If duplicate found, return True\n",
        "            return True\n",
        "        unique.append(num)  # Otherwise, add to list\n",
        "\n",
        "    return False  # If no duplicates, return False\n",
        "\n",
        "# Test Cases\n",
        "print(contains_duplicate([1,2,3,1]))  # Output: True\n",
        "print(contains_duplicate([1,2,3,4]))  # Output: False\n",
        "print(contains_duplicate([]))  # Output: False\n",
        "# The worst-case time complexity is O(n²) because num not in unique takes O(n).\n",
        "\n",
        "def contains_duplicate(arr):\n",
        "    seen = set()  # Use a set for fast lookups\n",
        "\n",
        "    for num in arr:\n",
        "        if num in seen:\n",
        "            return True  # Found a duplicate\n",
        "        seen.add(num)  # Store the number\n",
        "\n",
        "    return False  # No duplicates found\n",
        "\n",
        "# A set lookup is O(1)(it uses dictionary), so this solution runs in O(n) time instead of O(n²).\n"
      ],
      "metadata": {
        "id": "8T6CLaNc4oJ8"
      },
      "execution_count": null,
      "outputs": []
    },
    {
      "cell_type": "markdown",
      "source": [
        "## 21_\"Intersection of Two Arrays\" (LeetCode 349)"
      ],
      "metadata": {
        "id": "IpbgKqvO8XH-"
      }
    },
    {
      "cell_type": "code",
      "source": [
        "# Given two integer arrays nums1 and nums2, return an array of their intersection.\n",
        "# Each element in the result must be unique, and you may return the result in any order.\n",
        "\n",
        "lst1 = [1,2,3]\n",
        "lst2 = [2]\n",
        "\n",
        "new = set()\n",
        "\n",
        "for item in lst1:\n",
        "  if item in lst2:\n",
        "    new.add(item)\n",
        "\n",
        "print(new)\n"
      ],
      "metadata": {
        "colab": {
          "base_uri": "https://localhost:8080/"
        },
        "id": "7MeQXUua8Yp1",
        "outputId": "c8f93d34-057f-4c01-f7ac-6eb7ffb50426"
      },
      "execution_count": null,
      "outputs": [
        {
          "output_type": "stream",
          "name": "stdout",
          "text": [
            "{2}\n"
          ]
        }
      ]
    },
    {
      "cell_type": "markdown",
      "source": [
        "# Dictionary"
      ],
      "metadata": {
        "id": "glr5RP6YcOdV"
      }
    },
    {
      "cell_type": "markdown",
      "source": [
        "## Merge Multiple Dict"
      ],
      "metadata": {
        "id": "hbRrjCtVymbT"
      }
    },
    {
      "cell_type": "code",
      "source": [
        "\n",
        "# method 1\n",
        "\n",
        "# merge_dict = dict1| dict2| dict3\n",
        "\n",
        "# merge_dict\n",
        "\n",
        "# method 2\n",
        "\n",
        "# merge_dict = {**dict1, **dict2, **dict3}\n",
        "# merge_dict\n",
        "\n",
        "# method 3\n",
        "\n",
        "def merge(*dicts):\n",
        "  merge_dict = {}\n",
        "\n",
        "  for d in dicts:\n",
        "    for key, value in d.items():\n",
        "      merge_dict[key] = value\n",
        "\n",
        "\n",
        "  print(merge_dict)\n",
        "\n",
        "dict1 = {1:'a', 2:'b', 3:'c'}\n",
        "dict2 = {4:'d', 5:'e', 6: 'f'}\n",
        "dict3 = {7:'g', 8:'h', 9: 'i'}\n",
        "\n",
        "merge(dict1, dict2, dict3)\n"
      ],
      "metadata": {
        "colab": {
          "base_uri": "https://localhost:8080/"
        },
        "id": "g1BcIMuZyqOA",
        "outputId": "af506413-1f8c-4972-9f86-93e7824270a4"
      },
      "execution_count": null,
      "outputs": [
        {
          "output_type": "stream",
          "name": "stdout",
          "text": [
            "{1: 'a', 2: 'b', 3: 'c', 4: 'd', 5: 'e', 6: 'f', 7: 'g', 8: 'h', 9: 'i'}\n"
          ]
        }
      ]
    },
    {
      "cell_type": "markdown",
      "source": [
        "## Merge Dictionaries with Common Keys"
      ],
      "metadata": {
        "id": "8T5NLMf45ZQX"
      }
    },
    {
      "cell_type": "code",
      "source": [
        "def merge_dicts_sum_common_keys(dicts):\n",
        "    \"\"\"\n",
        "    Merge multiple dictionaries and sum values for common keys.\n",
        "\n",
        "    :param dicts: List of dictionaries to merge\n",
        "    :return: Merged dictionary with summed values for common keys\n",
        "    \"\"\"\n",
        "    merged_dict = {}\n",
        "\n",
        "    for d in dicts:\n",
        "        for key, value in d.items():\n",
        "            merged_dict[key] = merged_dict.get(key, 0) + value  # Sum values for common keys\n",
        "\n",
        "    return merged_dict\n",
        "\n",
        "# Example usage\n",
        "dict1 = {'a': 1, 'b': 2, 'c': 3}\n",
        "dict2 = {'b': 3, 'c': 4, 'd': 5}\n",
        "dict3 = {'a': 2, 'c': 1, 'e': 6}\n",
        "\n",
        "merged_dict = merge_dicts_sum_common_keys([dict1, dict2, dict3])\n",
        "print(merged_dict)  # Output: {'a': 3, 'b': 5, 'c': 8, 'd': 5, 'e': 6}\n",
        "\n",
        "\n",
        "def merge_dicts_append_lists_common_keys(dicts):\n",
        "    \"\"\"\n",
        "    Merge multiple dictionaries and append values into lists for common keys.\n",
        "\n",
        "    :param dicts: List of dictionaries to merge\n",
        "    :return: Merged dictionary with lists of values for common keys\n",
        "    \"\"\"\n",
        "    merged_dict = {}\n",
        "\n",
        "    for d in dicts:\n",
        "        for key, value in d.items():\n",
        "            if key in merged_dict:\n",
        "                merged_dict[key].append(value)  # Append value if key already exists\n",
        "            else:\n",
        "                merged_dict[key] = [value]  # Start a new list for the key\n",
        "\n",
        "    return merged_dict\n",
        "\n",
        "# Example usage\n",
        "dict1 = {'a': 1, 'b': 2, 'c': 3}\n",
        "dict2 = {'b': 3, 'c': 4, 'd': 5}\n",
        "dict3 = {'a': 2, 'c': 1, 'e': 6}\n",
        "\n",
        "merged_dict = merge_dicts_append_lists_common_keys([dict1, dict2, dict3])\n",
        "print(merged_dict)  # Output: {'a': [1, 2], 'b': [2, 3], 'c': [3, 4, 1], 'd': [5], 'e': [6]}\n"
      ],
      "metadata": {
        "id": "CiwMBdiM5Z0h"
      },
      "execution_count": null,
      "outputs": []
    },
    {
      "cell_type": "markdown",
      "source": [
        "# String"
      ],
      "metadata": {
        "id": "vlrv8Kbkdqzc"
      }
    },
    {
      "cell_type": "markdown",
      "source": [
        "## 1_Words Frequency in a Sentence"
      ],
      "metadata": {
        "id": "h4wJXbFG0WIC"
      }
    },
    {
      "cell_type": "code",
      "source": [
        "sent = \"The world is big\"\n",
        "\n",
        "count_dict = {}  # Dictionary to store word frequencies\n",
        "word = \"\"        # Temporary variable to build each word\n",
        "\n",
        "for i in range(len(sent)):\n",
        "    if sent[i] != ' ':  # If the character is not a space, build the word\n",
        "        word += sent[i]\n",
        "    if sent[i] == ' ' or i == len(sent) - 1:  # Space or last character triggers word processing\n",
        "        if word:  # Only process if word is non-empty\n",
        "            word = word.lower()  # Convert to lowercase for case-insensitivity\n",
        "            count_dict[word] = count_dict.get(word, 0) + 1\n",
        "            word = \"\"  # Reset word for the next one\n",
        "\n",
        "print(count_dict)\n",
        "\n",
        "def word_frequency(sentence):\n",
        "    \"\"\"\n",
        "    Calculate the frequency of words in a sentence.\n",
        "\n",
        "    :param sentence: Input sentence (string)\n",
        "    :return: Dictionary with words as keys and their frequencies as values\n",
        "    \"\"\"\n",
        "    # Convert the sentence to lowercase and split into words\n",
        "    words = sentence.lower().split()\n",
        "\n",
        "    # Initialize an empty dictionary to store word frequencies\n",
        "    frequency = {}\n",
        "\n",
        "    # Count occurrences of each word\n",
        "    for word in words:\n",
        "        if word in frequency:\n",
        "            frequency[word] += 1\n",
        "        else:\n",
        "            frequency[word] = 1\n",
        "\n",
        "    return frequency\n",
        "\n",
        "# Example usage\n",
        "sentence = \"This is a test. This test is simple, yet effective!\"\n",
        "frequencies = word_frequency(sentence)\n",
        "print(frequencies)\n",
        "# Output: {'this': 2, 'is': 2, 'a': 1, 'test': 2, 'simple': 1, 'yet': 1, 'effective': 1}\n",
        "\n",
        "\n",
        "\n",
        "\n",
        "\n"
      ],
      "metadata": {
        "colab": {
          "base_uri": "https://localhost:8080/"
        },
        "id": "gyue4_af0ZGf",
        "outputId": "1c776ce4-9e06-4d0c-efd7-7941a1778781"
      },
      "execution_count": null,
      "outputs": [
        {
          "output_type": "stream",
          "name": "stdout",
          "text": [
            "{'the': 1, 'world': 1, 'is': 1, 'big': 1}\n"
          ]
        }
      ]
    },
    {
      "cell_type": "markdown",
      "source": [
        "## 2_Palindromic tuple"
      ],
      "metadata": {
        "id": "rzIMDSqT4-A9"
      }
    },
    {
      "cell_type": "code",
      "source": [
        "def is_palindromic_tuple(tup):\n",
        "    \"\"\"\n",
        "    Check if a given tuple is palindromic.\n",
        "\n",
        "    :param tup: Tuple to check\n",
        "    :return: True if palindromic, False otherwise\n",
        "    \"\"\"\n",
        "    return tup == tup[::-1]  # Check if tuple is equal to its reverse\n",
        "\n",
        "# Example usage\n",
        "tup1 = (1, 2, 3, 2, 1)\n",
        "tup2 = (1, 2, 3, 4, 5)\n",
        "\n",
        "print(is_palindromic_tuple(tup1))  # Output: True\n",
        "print(is_palindromic_tuple(tup2))  # Output: False\n"
      ],
      "metadata": {
        "id": "uEO7DTZX5BsU"
      },
      "execution_count": null,
      "outputs": []
    },
    {
      "cell_type": "markdown",
      "source": [
        "## 3_Reverse a string"
      ],
      "metadata": {
        "id": "fAiDkGYyATki"
      }
    },
    {
      "cell_type": "code",
      "source": [
        "def reverse_string(s):\n",
        "    \"\"\"\n",
        "    Function to return the reversed version of the input string.\n",
        "\n",
        "    Parameters:\n",
        "    s (str): The input string to be reversed.\n",
        "\n",
        "    Returns:\n",
        "    str: The reversed string.\n",
        "    \"\"\"\n",
        "    new_str = \"\"\n",
        "    n = len(s) - 1\n",
        "    for i in range(n,-1, -1):\n",
        "      new_str += s[i]\n",
        "\n",
        "    return new_str\n",
        "\n",
        "\n",
        "print(reverse_string(\"priya\"))"
      ],
      "metadata": {
        "colab": {
          "base_uri": "https://localhost:8080/"
        },
        "id": "nxdwS70GAXZH",
        "outputId": "6b42ead6-d0de-4a45-9d91-109e6aada9f8"
      },
      "execution_count": null,
      "outputs": [
        {
          "output_type": "stream",
          "name": "stdout",
          "text": [
            "ayirp\n"
          ]
        }
      ]
    },
    {
      "cell_type": "code",
      "source": [
        "# Input string\n",
        "s = \"Geeks for Geeks\"\n",
        "\n",
        "# Split the string into words, reverse the list of words, and join them back\n",
        "reversed_words = ' '.join(s.split()[::-1])\n",
        "\n",
        "print(reversed_words)\n"
      ],
      "metadata": {
        "id": "qtvkxJbHLKsE"
      },
      "execution_count": null,
      "outputs": []
    },
    {
      "cell_type": "code",
      "source": [
        "# using no extra variable and inbuilt functions\n",
        "def reverse(s):\n",
        "    s = list(s)  # Convert string to list (since strings are immutable)\n",
        "    i, j = 0, len(s) - 1\n",
        "\n",
        "    while i < j:\n",
        "        s[i], s[j] = s[j], s[i]  # Swap without extra variables\n",
        "        i += 1\n",
        "        j -= 1\n",
        "\n",
        "    return ''.join(s)  # Convert back to string\n",
        "\n",
        "# Example\n",
        "s = \"hello\"\n",
        "print(reverse(s))  # Output: \"olleh\""
      ],
      "metadata": {
        "colab": {
          "base_uri": "https://localhost:8080/"
        },
        "id": "0TUr9bQLy_KL",
        "outputId": "bacf554b-0b24-47bb-a049-22d7d92523f4"
      },
      "execution_count": null,
      "outputs": [
        {
          "output_type": "stream",
          "name": "stdout",
          "text": [
            "olleh\n"
          ]
        }
      ]
    },
    {
      "cell_type": "markdown",
      "source": [
        "## 4_Count Vowels in a string"
      ],
      "metadata": {
        "id": "lWUzVfGaBZfn"
      }
    },
    {
      "cell_type": "code",
      "source": [
        "def count_vowels(s):\n",
        "    \"\"\"\n",
        "    Function to count the number of vowels in the input string.\n",
        "\n",
        "    Parameters:\n",
        "    s (str): The input string to check for vowels.\n",
        "\n",
        "    Returns:\n",
        "    int: The count of vowels in the input string.\n",
        "    \"\"\"\n",
        "    vowels = \"aeiou\"\n",
        "    count = 0\n",
        "\n",
        "    for i in s:\n",
        "      if i in vowels:\n",
        "        count += 1\n",
        "\n",
        "    return count\n",
        "\n",
        "print(count_vowels(\"priya\"))\n",
        "\n"
      ],
      "metadata": {
        "colab": {
          "base_uri": "https://localhost:8080/"
        },
        "id": "yLzaWBLgBf_4",
        "outputId": "a8261e48-8211-41a7-b393-587dd1056cca"
      },
      "execution_count": null,
      "outputs": [
        {
          "output_type": "stream",
          "name": "stdout",
          "text": [
            "2\n"
          ]
        }
      ]
    },
    {
      "cell_type": "markdown",
      "source": [
        "## 5_check two strings are equal at the same position and order"
      ],
      "metadata": {
        "id": "AacHjYGTCZyc"
      }
    },
    {
      "cell_type": "code",
      "source": [
        "def are_equal_strings(s, t):\n",
        "    \"\"\"\n",
        "    Function to check if two strings are equal without using built-in functions.\n",
        "\n",
        "    Parameters:\n",
        "    s (str): The first string.\n",
        "    t (str): The second string.\n",
        "\n",
        "    Returns:\n",
        "    bool: True if the strings are equal, False otherwise.\n",
        "    \"\"\"\n",
        "    if len(s) != len(t):\n",
        "      return False\n",
        "\n",
        "    for i in range(len(s)):\n",
        "      if s[i] != t[i]:\n",
        "        return False\n",
        "    return True\n",
        "\n",
        "print(are_equal_strings(\"Hello\", \"Hello\"))"
      ],
      "metadata": {
        "colab": {
          "base_uri": "https://localhost:8080/"
        },
        "id": "8Fjy9kN4CgYE",
        "outputId": "03fc163a-c751-4962-f8ef-4a9dbae285ff"
      },
      "execution_count": null,
      "outputs": [
        {
          "output_type": "stream",
          "name": "stdout",
          "text": [
            "True\n"
          ]
        }
      ]
    },
    {
      "cell_type": "markdown",
      "source": [
        "## 6_check palindrome of a string"
      ],
      "metadata": {
        "id": "ReuQSK9JCZ5-"
      }
    },
    {
      "cell_type": "code",
      "source": [
        "def is_palindrome(s):\n",
        "    \"\"\"\n",
        "    Function to check if the input string is a palindrome.\n",
        "\n",
        "    Parameters:\n",
        "    s (str): The input string to check.\n",
        "\n",
        "    Returns:\n",
        "    bool: True if the string is a palindrome, False otherwise.\n",
        "    \"\"\"\n",
        "    s = s.lower().replace(\" \", \"\")\n",
        "\n",
        "    n = len(s)-1\n",
        "    new_str = \"\"\n",
        "\n",
        "    for i in range(n, -1, -1):\n",
        "      new_str += s[i]\n",
        "\n",
        "    return s == new_str\n",
        "\n",
        "is_palindrome(\"Madam\")\n",
        "\n",
        "\n",
        "\n",
        "\n"
      ],
      "metadata": {
        "colab": {
          "base_uri": "https://localhost:8080/"
        },
        "id": "Y1TmIYIMDWLo",
        "outputId": "77788e7e-ac97-4439-a4d3-a4467938f9c8"
      },
      "execution_count": null,
      "outputs": [
        {
          "output_type": "stream",
          "name": "stdout",
          "text": [
            "madam\n"
          ]
        },
        {
          "output_type": "execute_result",
          "data": {
            "text/plain": [
              "True"
            ]
          },
          "metadata": {},
          "execution_count": 16
        }
      ]
    },
    {
      "cell_type": "code",
      "source": [
        "def is_palindrome(s):\n",
        "    i, j = 0, len(s) - 1\n",
        "\n",
        "    while i < j:\n",
        "        if s[i] == '*' or s[j] == '*':\n",
        "\t\t\t      pass\n",
        "        if s[i] != s[j]:  # Compare characters\n",
        "            return False\n",
        "        i += 1\n",
        "        j -= 1\n",
        "\n",
        "    return True  # If loop completes, it's a palindrome\n",
        "\n",
        "# Example cases\n",
        "print(is_palindrome(\"madam\"))   # Output: True\n",
        "print(is_palindrome(\"hello\"))   # Output: False\n",
        "print(is_palindrome(\"racecar\")) # Output: True\n",
        "print(is_palindrome(\"12321\"))   # Output: True\n"
      ],
      "metadata": {
        "id": "2PyoDqZJzF68"
      },
      "execution_count": null,
      "outputs": []
    },
    {
      "cell_type": "code",
      "source": [
        "# New version of palindrome\n",
        "# Ex : “m*m” .. if u replace * with any word this can be palindrome\n",
        "\n",
        "# Input is a string which has “*” in it\n",
        "\n",
        "# For the given word if u replace “*” with any letter can it be formed as palindrome or not\n",
        "\n",
        "# 1. Function should take string as input 2. Return true if it can be palindrome else false\n",
        "\n",
        "# Eg : “minio*” this cannot be be palindrome\n",
        "\n",
        "# Word can have more than one *\n",
        "def is_palindrome(s):\n",
        "    i, j = 0, len(s) - 1\n",
        "\n",
        "    while i < j:\n",
        "        if s[i] == '*' or s[j] == '*':\n",
        "\t\t\t      pass\n",
        "        elif s[i] != s[j]:  # Compare characters\n",
        "            return False\n",
        "        i += 1\n",
        "        j -= 1\n",
        "\n",
        "    return True  # If loop completes, it's a palindrome\n",
        "\n",
        "# Example cases\n",
        "print(is_palindrome(\"m*m\"))\n",
        "print(is_palindrome(\"a*m*\"))\n",
        "print(is_palindrome(\"minio*\"))\n"
      ],
      "metadata": {
        "colab": {
          "base_uri": "https://localhost:8080/"
        },
        "id": "YXVPTmwxSsmD",
        "outputId": "243b2f29-03c7-4257-f62f-5f9096ae8c7b"
      },
      "execution_count": null,
      "outputs": [
        {
          "output_type": "stream",
          "name": "stdout",
          "text": [
            "True\n",
            "True\n",
            "False\n"
          ]
        }
      ]
    },
    {
      "cell_type": "markdown",
      "source": [],
      "metadata": {
        "id": "1Z8-kD0GSriG"
      }
    },
    {
      "cell_type": "markdown",
      "source": [
        "## 7_Count words in a string"
      ],
      "metadata": {
        "id": "60b52jTlER5J"
      }
    },
    {
      "cell_type": "code",
      "source": [
        "def count_words(s):\n",
        "    \"\"\"\n",
        "    Function to count the number of words in the input string.\n",
        "\n",
        "    Parameters:\n",
        "    s (str): The input string to check for words.\n",
        "\n",
        "    Returns:\n",
        "    int: The count of words in the input string.\n",
        "    \"\"\"\n",
        "    count = 1\n",
        "    lst =[]\n",
        "    word = \"\"\n",
        "    for i in s:\n",
        "      if i != ' ':\n",
        "        word += i\n",
        "      elif i == ' ':\n",
        "        if word: # To ensure word is not empty\n",
        "            lst.append(word)\n",
        "            word = \"\"\n",
        "\n",
        "    if word: # to cature the last word\n",
        "      lst.append(word)\n",
        "\n",
        "    return len(lst)\n",
        "\n",
        "print(count_words(\"Hello, World\"))"
      ],
      "metadata": {
        "colab": {
          "base_uri": "https://localhost:8080/"
        },
        "id": "LR40zLAWEVQN",
        "outputId": "445af4a6-a701-417e-d894-e14487297ea0"
      },
      "execution_count": null,
      "outputs": [
        {
          "output_type": "stream",
          "name": "stdout",
          "text": [
            "Hello,\n",
            "2\n"
          ]
        }
      ]
    },
    {
      "cell_type": "markdown",
      "source": [
        "## 8_Remove Duplicates of a string"
      ],
      "metadata": {
        "id": "t4MUPdRLHV42"
      }
    },
    {
      "cell_type": "code",
      "source": [
        "def remove_duplicates(s):\n",
        "    \"\"\"\n",
        "    Function to remove duplicate characters from the input string.\n",
        "\n",
        "    Parameters:\n",
        "    s (str): The input string from which duplicates need to be removed.\n",
        "\n",
        "    Returns:\n",
        "    str: The modified string with duplicates removed.\n",
        "    \"\"\"\n",
        "    new_str = ''\n",
        "    for i in s:\n",
        "      if i not in new_str:\n",
        "        new_str += i\n",
        "\n",
        "    return new_str\n",
        "\n",
        "print(remove_duplicates(\"hello\"))\n"
      ],
      "metadata": {
        "colab": {
          "base_uri": "https://localhost:8080/"
        },
        "id": "sXasP35zHZb7",
        "outputId": "ec19fd7e-3c00-444b-b86e-0ee93d4992be"
      },
      "execution_count": null,
      "outputs": [
        {
          "output_type": "stream",
          "name": "stdout",
          "text": [
            "helo\n"
          ]
        }
      ]
    },
    {
      "cell_type": "markdown",
      "source": [
        "## 9_Count constants in a string"
      ],
      "metadata": {
        "id": "VDe_I3T5H9P1"
      }
    },
    {
      "cell_type": "code",
      "source": [
        "def count_consonants(s):\n",
        "    \"\"\"\n",
        "    Function to count the number of consonants in the input string.\n",
        "\n",
        "    Parameters:\n",
        "    s (str): The input string to check for consonants.\n",
        "\n",
        "    Returns:\n",
        "    int: The count of consonants in the input string.\n",
        "    \"\"\"\n",
        "    vowels = \"aeiou\"\n",
        "    count = 0\n",
        "    s  = s.lower().replace(\" \",\"\")\n",
        "    for char in s :\n",
        "        if ('a' <= char <= 'z'):\n",
        "          if char not in vowels:\n",
        "            count += 1\n",
        "    return count\n",
        "print(count_consonants(\"hello\"))\n"
      ],
      "metadata": {
        "colab": {
          "base_uri": "https://localhost:8080/"
        },
        "id": "cTKWFCOZIDPx",
        "outputId": "fb5aa68f-a2bb-4624-bcfa-e65c9599da4d"
      },
      "execution_count": null,
      "outputs": [
        {
          "output_type": "stream",
          "name": "stdout",
          "text": [
            "3\n"
          ]
        }
      ]
    },
    {
      "cell_type": "markdown",
      "source": [
        "## 10_Check for anangrams"
      ],
      "metadata": {
        "id": "1VfDTmgsJM_g"
      }
    },
    {
      "cell_type": "code",
      "source": [
        "def is_anagram(s, t):\n",
        "    if len(s) != len(t):\n",
        "        return False  # If lengths are different, they can't be anagrams\n",
        "\n",
        "    char_count = {}  # Dictionary to count characters\n",
        "\n",
        "    for char in s:\n",
        "        char_count[char] = char_count.get(char, 0) + 1  # Count occurrences in s\n",
        "\n",
        "    for char in t:\n",
        "        if char not in char_count or char_count[char] == 0:\n",
        "            return False  # If char doesn't exist or count goes negative, not an anagram\n",
        "        char_count[char] -= 1  # Reduce count for matching char\n",
        "\n",
        "    return True  # All counts matched, it's an anagram\n",
        "\n",
        "# 🔹 Test Cases\n",
        "print(is_anagram(\"hello\", \"ollih\"))  # ❌ False (incorrect input)\n",
        "print(is_anagram(\"listen\", \"silent\"))  # ✅ True\n",
        "print(is_anagram(\"rat\", \"car\"))  # ✅ False\n",
        "print(is_anagram(\"aabb\", \"abab\"))  # ✅ True\n",
        "\n",
        "# Time Complexity: O(n)"
      ],
      "metadata": {
        "colab": {
          "base_uri": "https://localhost:8080/"
        },
        "id": "g6Tfkj5hJSp4",
        "outputId": "00eb107e-666a-494a-934c-e84835a23e26"
      },
      "execution_count": null,
      "outputs": [
        {
          "output_type": "stream",
          "name": "stdout",
          "text": [
            "False\n"
          ]
        }
      ]
    },
    {
      "cell_type": "markdown",
      "source": [
        "## 11_Check Subsequence"
      ],
      "metadata": {
        "id": "F2F1TxLFKP7W"
      }
    },
    {
      "cell_type": "markdown",
      "source": [
        "You are given two strings s and t. Your task is to determine if string t is a subsequence of string s. A subsequence of a string is a new string that is formed from the original string by deleting some (or no) characters without changing the order of the remaining characters.\n",
        "\n",
        "\n",
        "\n",
        "Input:\n",
        "\n",
        "Two strings s and t where the length of s is between 1 and 1000, and the length of t is between 1 and 1000.\n",
        "\n",
        "\n",
        "\n",
        "Output:\n",
        "\n",
        "Return True if t is a subsequence of s, and False otherwise.\n",
        "\n",
        "\n",
        "\n",
        "Example:\n",
        "\n",
        "Input: s = \"abcde\", t = \"ace\"\n",
        "Output: True\n",
        "\n",
        "Input: s = \"abcde\", t = \"aec\"\n",
        "Output: False\n"
      ],
      "metadata": {
        "id": "KguSOwHtKT44"
      }
    },
    {
      "cell_type": "code",
      "source": [
        "def is_subsequence(s, t):\n",
        "    \"\"\"\n",
        "    Function to check if t is a subsequence of s.\n",
        "\n",
        "    Parameters:\n",
        "    s (str): The original string.\n",
        "    t (str): The target subsequence string.\n",
        "\n",
        "    Returns:\n",
        "    bool: True if t is a subsequence of s, False otherwise.\n",
        "    \"\"\"\n",
        "    i = 0 ; j = 0\n",
        "\n",
        "    while i < len(s) and j < len(t):\n",
        "      if s[i] == t[j]:\n",
        "        j += 1\n",
        "      i += 1\n",
        "    return j == len(t)\n",
        "\n",
        "\n",
        "print(is_subsequence(\"abcde\",\"ace\"))"
      ],
      "metadata": {
        "colab": {
          "base_uri": "https://localhost:8080/"
        },
        "id": "TNenliqDKZ52",
        "outputId": "f70019f1-0129-490e-c298-eab8626d1b54"
      },
      "execution_count": null,
      "outputs": [
        {
          "output_type": "stream",
          "name": "stdout",
          "text": [
            "True\n"
          ]
        }
      ]
    },
    {
      "cell_type": "markdown",
      "source": [
        "## 12_Check for substring"
      ],
      "metadata": {
        "id": "eX8a-qLOMkNg"
      }
    },
    {
      "cell_type": "markdown",
      "source": [
        "Problem Description:\n",
        "\n",
        "You are given two strings, s and t. Your task is to determine if the string t is a substring of the string s. A substring is a contiguous sequence of characters within a string. Do not use any built-in functions for string operations and do not use recursion.\n",
        "\n",
        "\n",
        "\n",
        "Input:\n",
        "\n",
        "Two strings s and t, where 1 <= len(s), len(t) <= 1000.\n",
        "\n",
        "\n",
        "\n",
        "Output:\n",
        "\n",
        "A boolean value (True or False) indicating whether t is a substring of s.\n",
        "\n",
        "\n",
        "\n",
        "Example:\n",
        "\n",
        "Input: s = \"hello world\", t = \"world\"\n",
        "Output: True\n",
        "\n",
        "Input: s = \"hello world\", t = \"worlds\"\n",
        "Output: False"
      ],
      "metadata": {
        "id": "S_-KSUL5Mvwu"
      }
    },
    {
      "cell_type": "code",
      "source": [
        "def check_substring(s, t):\n",
        "  return t in s\n",
        "\n",
        "print(check_substring(\"Hello, World\", \"lle\"))"
      ],
      "metadata": {
        "colab": {
          "base_uri": "https://localhost:8080/"
        },
        "id": "GBp-gw4aNEvt",
        "outputId": "92f2936a-59a8-4128-a391-99ce455915be"
      },
      "execution_count": null,
      "outputs": [
        {
          "output_type": "stream",
          "name": "stdout",
          "text": [
            "False\n"
          ]
        }
      ]
    },
    {
      "cell_type": "markdown",
      "source": [
        "## 13_length of the longest word"
      ],
      "metadata": {
        "id": "_lMEE8YYPxWk"
      }
    },
    {
      "cell_type": "code",
      "source": [
        "def longest_word_length(s):\n",
        "  word = \"\"\n",
        "  lst = []\n",
        "  s = s.lower()\n",
        "  for i in s:\n",
        "    if i != ' ':\n",
        "      word += i\n",
        "    elif i == ' ':\n",
        "      lst.append(word)\n",
        "      word = ''\n",
        "\n",
        "  if word:\n",
        "    lst.append(word)\n",
        "\n",
        "  return max(len(w) for w in lst)\n",
        "\n",
        "print(longest_word_length(\"The world is Big\"))\n",
        "\n",
        "##\n",
        "\n",
        "def longest_word_length(s):\n",
        "    max_length = 0\n",
        "    current_length = 0\n",
        "\n",
        "    for char in s:\n",
        "        if char != ' ':\n",
        "            current_length += 1\n",
        "        else:\n",
        "            max_length = max(max_length, current_length)\n",
        "            current_length = 0\n",
        "\n",
        "    # Check the last word's length\n",
        "    max_length = max(max_length, current_length)\n",
        "\n",
        "    return max_length\n",
        "\n",
        "print(longest_word_length(\"The world is Big\"))  # Output: 5\n"
      ],
      "metadata": {
        "colab": {
          "base_uri": "https://localhost:8080/"
        },
        "id": "vl9tOb_LP1T9",
        "outputId": "cffc34a0-5ed3-4a03-8c6c-127345cab514"
      },
      "execution_count": null,
      "outputs": [
        {
          "output_type": "stream",
          "name": "stdout",
          "text": [
            "5\n"
          ]
        }
      ]
    },
    {
      "cell_type": "markdown",
      "source": [
        "## 14_Check whether a string is palindrome or symmtrical or not"
      ],
      "metadata": {
        "id": "3MD2b9fiJ6_K"
      }
    },
    {
      "cell_type": "code",
      "source": [
        "def is_palindrome(s):\n",
        "  i = 0\n",
        "  j= len(s)-1\n",
        "\n",
        "  while i < j:\n",
        "    if s[i] != s[j]:\n",
        "      return False\n",
        "    i += 1\n",
        "    j -= 1\n",
        "\n",
        "  return True\n",
        "\n",
        "def is_symetrical(s):\n",
        "  i = 0\n",
        "  j = len(s)// 2\n",
        "\n",
        "  while j < len(s):\n",
        "    if s[i] != s[j]:\n",
        "      return False\n",
        "    i += 1\n",
        "    j += 1\n",
        "\n",
        "  return True\n",
        "\n",
        "print(is_palindrome(\"khokho\"))\n",
        "print(is_symetrical(\"khokho\"))"
      ],
      "metadata": {
        "id": "GPGvg2S3KAB-"
      },
      "execution_count": null,
      "outputs": []
    },
    {
      "cell_type": "markdown",
      "source": [
        "## 15_Remove i th character from a string"
      ],
      "metadata": {
        "id": "khHUUWFiLja8"
      }
    },
    {
      "cell_type": "code",
      "source": [
        "s = \"hello\"\n",
        "k = 2\n",
        "new_s = \"\"\n",
        "\n",
        "for i in range(len(s)):\n",
        "  if i != k:\n",
        "    new_s += s[i]\n",
        "\n",
        "print(new_s)"
      ],
      "metadata": {
        "colab": {
          "base_uri": "https://localhost:8080/"
        },
        "id": "gxJqbn8zLnHs",
        "outputId": "bc8e6efb-757a-4410-9936-d1b18759a30c"
      },
      "execution_count": null,
      "outputs": [
        {
          "output_type": "stream",
          "name": "stdout",
          "text": [
            "helo\n"
          ]
        }
      ]
    },
    {
      "cell_type": "code",
      "source": [
        "s = \"hello world\"\n",
        "\n",
        "# Use a list comprehension to create a new string by joining\n",
        "# characters that are not 'o' from original string 's'\n",
        "s = \"\".join([c for c in s if c != \"o\"])\n",
        "print(s)\n"
      ],
      "metadata": {
        "id": "UwlFC5N7MMEX"
      },
      "execution_count": null,
      "outputs": []
    },
    {
      "cell_type": "markdown",
      "source": [
        "## 16_Convert snake case to pascal case"
      ],
      "metadata": {
        "id": "DOivvqKSPN8M"
      }
    },
    {
      "cell_type": "code",
      "source": [
        "s= 'geeksforgeeks_is_best'\n",
        "res = ''.join(word.capitalize() for word in s.split('_'))\n",
        "print(res)\n"
      ],
      "metadata": {
        "colab": {
          "base_uri": "https://localhost:8080/"
        },
        "id": "Fn7mNU_rPSCG",
        "outputId": "76421fcc-ad43-40ec-984c-3e9789422177"
      },
      "execution_count": null,
      "outputs": [
        {
          "output_type": "stream",
          "name": "stdout",
          "text": [
            "GeeksforgeeksIsBest\n"
          ]
        }
      ]
    },
    {
      "cell_type": "code",
      "source": [
        "s= 'geeksforgeeks_is_best'\n",
        "new_s = \"\"\n",
        "word =\"\"\n",
        "r = \"\"\n",
        "for i in s:\n",
        "  if i != '_':\n",
        "    word += i\n",
        "\n",
        "  if i == '_':\n",
        "    r = word.capitalize()\n",
        "    new_s = new_s+ r\n",
        "    word = \"\"\n",
        "\n",
        "if word:\n",
        "  r = word.capitalize()\n",
        "  new_s = new_s+ r\n",
        "\n",
        "\n",
        "print(new_s)"
      ],
      "metadata": {
        "colab": {
          "base_uri": "https://localhost:8080/"
        },
        "id": "LmtRW6xHQFC0",
        "outputId": "200ca648-7fe0-404d-9edc-db8b651f8322"
      },
      "execution_count": null,
      "outputs": [
        {
          "output_type": "stream",
          "name": "stdout",
          "text": [
            "GeeksforgeeksIsBest\n"
          ]
        }
      ]
    },
    {
      "cell_type": "code",
      "source": [
        "s= 'geeksforgeeks_is_best'\n",
        "res = \"\"\n",
        "capNext = True  # Flag to track if the next character should be capitalized\n",
        "\n",
        "for char in s:\n",
        "    if char == '_':\n",
        "        capNext = True\n",
        "    elif capNext:\n",
        "        res += char.upper()  # Capitalize the current character\n",
        "        capNext = False\n",
        "    else:\n",
        "        res += char  # Add the character as it is\n",
        "\n",
        "print(res)\n"
      ],
      "metadata": {
        "id": "or4IplsUTNit"
      },
      "execution_count": null,
      "outputs": []
    },
    {
      "cell_type": "markdown",
      "source": [
        "## 17_Print even length words in a string"
      ],
      "metadata": {
        "id": "jAMt7ERnTYNA"
      }
    },
    {
      "cell_type": "code",
      "source": [
        "s = 'The world is bigi'\n",
        "\n",
        "s = \" \".join([word for word in s.split() if len(word)% 2 == 0])\n",
        "print(s)"
      ],
      "metadata": {
        "colab": {
          "base_uri": "https://localhost:8080/"
        },
        "id": "jc0ReuiYTdX-",
        "outputId": "68e9563c-8cb3-4878-e44c-3e586af1ac69"
      },
      "execution_count": null,
      "outputs": [
        {
          "output_type": "stream",
          "name": "stdout",
          "text": [
            "is bigi\n"
          ]
        }
      ]
    },
    {
      "cell_type": "code",
      "source": [
        "\n",
        "s = 'The world is bigi'\n",
        "word = \"\"\n",
        "new_s = \"\"\n",
        "\n",
        "for i in s:\n",
        "  if i != \" \":\n",
        "    word += i\n",
        "  if i == \" \":\n",
        "    if len(word) % 2 == 0:\n",
        "      new_s += word\n",
        "    word = \"\"\n",
        "if word:\n",
        "  new_s += \" \"\n",
        "  if len(word) % 2 == 0:\n",
        "      new_s += word\n",
        "\n",
        "\n",
        "print(new_s)"
      ],
      "metadata": {
        "colab": {
          "base_uri": "https://localhost:8080/"
        },
        "id": "hUCx3piTT8Mp",
        "outputId": "8dd5a4e8-73e0-40d8-fe0e-f109278fe1cd"
      },
      "execution_count": null,
      "outputs": [
        {
          "output_type": "stream",
          "name": "stdout",
          "text": [
            "is bigi\n"
          ]
        }
      ]
    },
    {
      "cell_type": "code",
      "source": [
        "# Python3 program to print\n",
        "# even length words in a string\n",
        "\n",
        "def printWords(s):\n",
        "\n",
        "\t# split the string\n",
        "\ts = s.split(' ')\n",
        "\n",
        "\t# iterate in words of string\n",
        "\tfor word in s:\n",
        "\n",
        "\t\t# if length is even\n",
        "\t\tif len(word)%2==0:\n",
        "\t\t\tprint(word)\n",
        "\n",
        "\n",
        "# Driver Code\n",
        "s = \"i am muskan\"\n",
        "printWords(s)\n"
      ],
      "metadata": {
        "id": "TCrCtKctVBuM"
      },
      "execution_count": null,
      "outputs": []
    },
    {
      "cell_type": "markdown",
      "source": [
        "## 18_Accept the string which contain all vowels"
      ],
      "metadata": {
        "id": "aj0CRYH7VQKs"
      }
    },
    {
      "cell_type": "code",
      "source": [
        "s = \"Geeksforgeeks\"\n",
        "v = 'aeiou'\n",
        "\n",
        "def check_string_vowels(s, v):\n",
        "\n",
        "  for i in v:\n",
        "    if i not in s:\n",
        "      return False\n",
        "  return True\n",
        "\n",
        "check_string_vowels(s, v)"
      ],
      "metadata": {
        "colab": {
          "base_uri": "https://localhost:8080/"
        },
        "id": "CE--bT0VVTXs",
        "outputId": "96af3bdc-1c97-4a3c-9d09-f2aaf21a8f6a"
      },
      "execution_count": null,
      "outputs": [
        {
          "output_type": "execute_result",
          "data": {
            "text/plain": [
              "False"
            ]
          },
          "metadata": {},
          "execution_count": 55
        }
      ]
    },
    {
      "cell_type": "markdown",
      "source": [
        "##  19_Check a given string is binary or not\n"
      ],
      "metadata": {
        "id": "QNpuJ_L3h-xo"
      }
    },
    {
      "cell_type": "code",
      "source": [
        "# Input: str = \"01010101010\"\n",
        "# Output: Yes\n",
        "\n",
        "def check_binary(s):\n",
        "  bin = \"01\"\n",
        "  for i in s:\n",
        "    if i not in bin:\n",
        "      return False\n",
        "\n",
        "  return True\n",
        "\n",
        "check_binary(\"010p0101010\")\n",
        "\n"
      ],
      "metadata": {
        "colab": {
          "base_uri": "https://localhost:8080/"
        },
        "id": "wZyiF1cZiDnb",
        "outputId": "eb6c86d1-527a-4ea9-fd27-43e143cf41c5"
      },
      "execution_count": null,
      "outputs": [
        {
          "output_type": "execute_result",
          "data": {
            "text/plain": [
              "False"
            ]
          },
          "metadata": {},
          "execution_count": 57
        }
      ]
    },
    {
      "cell_type": "markdown",
      "source": [
        "## 20_Split and join a string"
      ],
      "metadata": {
        "id": "f0Xu21YMjKzA"
      }
    },
    {
      "cell_type": "code",
      "source": [
        "a = \"Hello, how are you?\"\n",
        "new_s = \"\"\n",
        "\n",
        "for i in a:\n",
        "  if i != \" \":\n",
        "    new_s += i\n",
        "  elif i == \" \":\n",
        "    new_s += \"-\"\n",
        "\n",
        "\n",
        "print(new_s)"
      ],
      "metadata": {
        "colab": {
          "base_uri": "https://localhost:8080/"
        },
        "id": "RKLVySB_jM9S",
        "outputId": "3acd2145-11f2-4724-8019-13ecf0f9c9b2"
      },
      "execution_count": null,
      "outputs": [
        {
          "output_type": "stream",
          "name": "stdout",
          "text": [
            "Hello,-how-are-you?\n"
          ]
        }
      ]
    },
    {
      "cell_type": "markdown",
      "source": [
        "## 21_program for removing i-th character from a string"
      ],
      "metadata": {
        "id": "LSe6EEWAk0_l"
      }
    },
    {
      "cell_type": "code",
      "source": [
        "s = \"PythonProgramming\"\n",
        "\n",
        "# Index of the character to remove\n",
        "i = 6\n",
        "\n",
        "new_s = \"\"\n",
        "\n",
        "for k in range(len(s)):\n",
        "  if k != i:\n",
        "    new_s += s[k]\n",
        "\n",
        "print(new_s)\n"
      ],
      "metadata": {
        "colab": {
          "base_uri": "https://localhost:8080/"
        },
        "id": "RIlBeBS_k2X3",
        "outputId": "4e8ee8ef-5135-430b-f6b9-842d2c53bfde"
      },
      "execution_count": null,
      "outputs": [
        {
          "output_type": "stream",
          "name": "stdout",
          "text": [
            "Pythonrogramming\n"
          ]
        }
      ]
    },
    {
      "cell_type": "markdown",
      "source": [
        "## 22_Find words which are greater than given length k"
      ],
      "metadata": {
        "id": "MYjSqdfElnTI"
      }
    },
    {
      "cell_type": "code",
      "source": [
        "# Input : str = \"string is fun in python\"\n",
        "#         k = 3\n",
        "# Output : string python\n",
        "\n",
        "def find_words(s, k):\n",
        "  new_s = \"\"\n",
        "  word = \"\"\n",
        "\n",
        "  for i in s:\n",
        "    if i != \" \":\n",
        "      word += i\n",
        "    elif i == \" \":\n",
        "      if len(word) > k:\n",
        "        new_s += word\n",
        "\n",
        "      new_s += \" \"\n",
        "      word = \"\"\n",
        "\n",
        "  if word:\n",
        "    if len(word) > k:\n",
        "        new_s += word\n",
        "\n",
        "  return new_s\n",
        "\n",
        "find_words(\"string is fun in python\", 3)\n",
        "\n",
        "\n",
        "\n",
        "\n",
        "\n"
      ],
      "metadata": {
        "colab": {
          "base_uri": "https://localhost:8080/",
          "height": 35
        },
        "id": "pB7YgKhNlpMt",
        "outputId": "af08cd2e-ed66-4aae-f4bd-bad3ce3059d2"
      },
      "execution_count": null,
      "outputs": [
        {
          "output_type": "execute_result",
          "data": {
            "text/plain": [
              "'string    python'"
            ],
            "application/vnd.google.colaboratory.intrinsic+json": {
              "type": "string"
            }
          },
          "metadata": {},
          "execution_count": 65
        }
      ]
    },
    {
      "cell_type": "markdown",
      "source": [
        "## 23_Check if string contains any special ch"
      ],
      "metadata": {
        "id": "OFaletO6oFU2"
      }
    },
    {
      "cell_type": "code",
      "source": [
        "def has_special_char(s):\n",
        "    for c in s:\n",
        "        if not (c.isalpha() or c.isdigit() or c == ' '):\n",
        "            return True\n",
        "    return False\n",
        "\n",
        "\n",
        "# Test the function\n",
        "s = \"Hello World\"\n",
        "if has_special_char(s):\n",
        "    print(\"The string contains special characters.\")\n",
        "else:\n",
        "    print(\"The string does not contain special characters.\")\n",
        "\n",
        "s = \"Hello@World\"\n",
        "if has_special_char(s):\n",
        "    print(\"The string contains special characters.\")\n",
        "else:\n",
        "    print(\"The string does not contain special characters.\")\n",
        "# This code is contributed by Edula Vinay Kumar Reddy\n"
      ],
      "metadata": {
        "id": "MIZiHJc7oJat"
      },
      "execution_count": null,
      "outputs": []
    },
    {
      "cell_type": "markdown",
      "source": [
        "## 24_Maximum frequency character in String"
      ],
      "metadata": {
        "id": "ZUGBMFvAqOpj"
      }
    },
    {
      "cell_type": "code",
      "source": [
        "s = \"hello world\"\n",
        "\n",
        "dict_1 = {}\n",
        "max = 0\n",
        "\n",
        "for i in s:\n",
        "  if i not in dict_1:\n",
        "    dict_1[i] = 1\n",
        "  else:\n",
        "    dict_1[i] += 1\n",
        "\n",
        "for k, v in dict_1.items():\n",
        "\n",
        "  if v > max:\n",
        "    max = v\n",
        "\n",
        "for k, v in dict_1.items():\n",
        "  if v == max:\n",
        "    print(k)\n"
      ],
      "metadata": {
        "colab": {
          "base_uri": "https://localhost:8080/"
        },
        "id": "rJ3zN_HJqRcy",
        "outputId": "dbbaee84-cdc9-445e-bb50-00b231deb938"
      },
      "execution_count": null,
      "outputs": [
        {
          "output_type": "stream",
          "name": "stdout",
          "text": [
            "l\n"
          ]
        }
      ]
    },
    {
      "cell_type": "code",
      "source": [
        "from collections import Counter\n",
        "\n",
        "s = \"hello world\"\n",
        "freq_dict = Counter(s)\n",
        "\n",
        "max_freq = max(freq_dict.values())  # Find max frequency\n",
        "\n",
        "# Print characters with max frequency\n",
        "for char, freq in freq_dict.items():\n",
        "    if freq == max_freq:\n",
        "        print(char)\n"
      ],
      "metadata": {
        "id": "d3idPlDGseEc"
      },
      "execution_count": null,
      "outputs": []
    },
    {
      "cell_type": "code",
      "source": [
        "s = \"hello world\"\n",
        "\n",
        "# Create a frequency dictionary\n",
        "freq_dict = {char: s.count(char) for char in set(s)}\n",
        "\n",
        "max_freq = max(freq_dict.values())  # Find max frequency\n",
        "\n",
        "# Print characters with max frequency\n",
        "for char, freq in freq_dict.items():\n",
        "    if freq == max_freq:\n",
        "        print(char)\n"
      ],
      "metadata": {
        "id": "NaAFoP7Ys8J3"
      },
      "execution_count": null,
      "outputs": []
    },
    {
      "cell_type": "markdown",
      "source": [
        "## 25_program to find uncommon words from two Strings"
      ],
      "metadata": {
        "id": "1rEbkqkr3G6i"
      }
    },
    {
      "cell_type": "code",
      "source": [
        "# Python3 program to find a list of uncommon words\n",
        "\n",
        "# Function to return all uncommon words\n",
        "\n",
        "\n",
        "def UncommonWords(A, B):\n",
        "\n",
        "\t# count will contain all the word counts\n",
        "\tcount = {}\n",
        "\n",
        "\t# insert words of string A to hash\n",
        "\tfor word in A.split():\n",
        "\t\tcount[word] = count.get(word, 0) + 1\n",
        "\n",
        "\t# insert words of string B to hash\n",
        "\tfor word in B.split():\n",
        "\t\tcount[word] = count.get(word, 0) + 1\n",
        "\n",
        "\t# return required list of words\n",
        "\treturn [word for word in count if count[word] == 1]\n",
        "\n",
        "\n",
        "# Driver Code\n",
        "A = \"Geeks for Geeks\"\n",
        "B = \"Learning from Geeks for Geeks\"\n",
        "\n",
        "# Print required answer\n",
        "print(UncommonWords(A, B))\n"
      ],
      "metadata": {
        "id": "ikfQfRxI3IP1"
      },
      "execution_count": null,
      "outputs": []
    },
    {
      "cell_type": "code",
      "source": [
        "from collections import Counter\n",
        "\n",
        "def get_uncommon_words(str1, str2):\n",
        "    def extract_words(s):\n",
        "        words = []\n",
        "        word = \"\"\n",
        "        for char in s:\n",
        "            if char.isalnum():  # Check if character is a letter or number\n",
        "                word += char\n",
        "            elif word:  # If we hit a space or punctuation and word is non-empty\n",
        "                words.append(word)\n",
        "                word = \"\"\n",
        "        if word:  # Add the last word if it exists\n",
        "            words.append(word)\n",
        "        return words\n",
        "\n",
        "    # Extract words manually without split()\n",
        "    words1 = extract_words(str1)\n",
        "    words2 = extract_words(str2)\n",
        "\n",
        "    # Count word frequencies\n",
        "    freq = Counter(words1 + words2)\n",
        "\n",
        "    # Get uncommon words (appearing only once)\n",
        "    uncommon_words = [word for word, count in freq.items() if count == 1]\n",
        "\n",
        "    return uncommon_words\n",
        "\n",
        "# Example Usage\n",
        "str1 = \"Hello world! This is a test.\"\n",
        "str2 = \"This test is simple.\"\n",
        "\n",
        "print(get_uncommon_words(str1, str2))\n"
      ],
      "metadata": {
        "id": "jPTeoE4B3bzD"
      },
      "execution_count": null,
      "outputs": []
    },
    {
      "cell_type": "markdown",
      "source": [],
      "metadata": {
        "id": "XVtDU0NOlfYU"
      }
    },
    {
      "cell_type": "markdown",
      "source": [
        "# numbers Question"
      ],
      "metadata": {
        "id": "Q9zE3-pveetm"
      }
    },
    {
      "cell_type": "markdown",
      "source": [
        "## 1_Add two nos"
      ],
      "metadata": {
        "id": "u-qU_oOsdF46"
      }
    },
    {
      "cell_type": "code",
      "source": [
        "# Python3 program to add two numbers\n",
        "\n",
        "num1 = 15\n",
        "num2 = 12\n",
        "\n",
        "# Adding two nos\n",
        "import operator\n",
        "su = operator.add(num1,num2)\n",
        "\n",
        "# printing values\n",
        "print(\"Sum of {0} and {1} is {2}\" .format(num1,\n",
        "                                       num2, su))\n",
        "\n",
        "\n",
        "# Define a lambda function to add two numbers\n",
        "add_numbers = lambda x, y: x + y\n",
        "\n",
        "# Take input from the user\n",
        "num1 = 1\n",
        "num2 = 2\n",
        "\n",
        "# Call the lambda function to add the two numbers\n",
        "result = add_numbers(num1, num2)\n",
        "\n",
        "# Print the result\n",
        "print(\"The sum of\", num1, \"and\", num2, \"is\", result)\n",
        "\n",
        "\n",
        "# Define a recursive function to add two numbers\n",
        "def add_numbers_recursive(x, y):\n",
        "    if y == 0:\n",
        "        return x\n",
        "    else:\n",
        "        return add_numbers_recursive(x + 1, y - 1)\n",
        "\n",
        "# Take input from the user\n",
        "num1 = 1\n",
        "num2 = 2\n",
        "\n",
        "# Call the recursive function to add the two numbers\n",
        "result = add_numbers_recursive(num1, num2)\n",
        "\n",
        "# Print the result\n",
        "print(\"The sum of\", num1, \"and\", num2, \"is\", result)\n"
      ],
      "metadata": {
        "id": "sAGn_pi-dIl6"
      },
      "execution_count": null,
      "outputs": []
    },
    {
      "cell_type": "markdown",
      "source": [
        "## 2_max of two nos"
      ],
      "metadata": {
        "id": "i-PaTzQPdx5o"
      }
    },
    {
      "cell_type": "code",
      "source": [
        "max = lambda a,b : a if a>b else b\n",
        "\n",
        "print(max(5,7))"
      ],
      "metadata": {
        "colab": {
          "base_uri": "https://localhost:8080/"
        },
        "id": "SH7IsyHUdz7T",
        "outputId": "4fa1500b-5c91-4498-8c29-1d50c2ce47dd"
      },
      "execution_count": null,
      "outputs": [
        {
          "output_type": "stream",
          "name": "stdout",
          "text": [
            "7\n"
          ]
        }
      ]
    },
    {
      "cell_type": "markdown",
      "source": [
        "## 3_Factorial of a number"
      ],
      "metadata": {
        "id": "uDAZir2oeXn_"
      }
    },
    {
      "cell_type": "code",
      "source": [
        "a = 5\n",
        "sum = 1\n",
        "while a:\n",
        "  sum = sum * a\n",
        "  a = a - 1\n",
        "\n",
        "print(sum)\n",
        "\n",
        "#################################################\n",
        "\n",
        "# Input: An integer number\n",
        "num = 6\n",
        "\n",
        "# Initialize the factorial variable to 1\n",
        "factorial = 1\n",
        "\n",
        "# Calculate the factorial using a for loop\n",
        "for i in range(1, num + 1):\n",
        "    factorial *= i\n",
        "\n",
        "# Output: The factorial of the number\n",
        "print(f\"The factorial of {num} is {factorial}\")\n",
        "\n",
        "#################################################\n",
        "# Python 3 program to find\n",
        "# factorial of given number\n",
        "def factorial(n):\n",
        "\n",
        "    # single line to find factorial\n",
        "    return 1 if (n==1 or n==0) else n * factorial(n - 1)\n",
        "\n",
        "# Driver Code\n",
        "num = 5\n",
        "print(\"Factorial of\",num,\"is\",factorial(num))\n",
        "\n"
      ],
      "metadata": {
        "colab": {
          "base_uri": "https://localhost:8080/"
        },
        "id": "tmWtC6q0eXNm",
        "outputId": "45a566c9-b685-466e-b656-69871fbb2b94"
      },
      "execution_count": null,
      "outputs": [
        {
          "output_type": "stream",
          "name": "stdout",
          "text": [
            "120\n"
          ]
        }
      ]
    },
    {
      "cell_type": "markdown",
      "source": [
        "## 4_Armstrong number"
      ],
      "metadata": {
        "id": "y4Mx4Ayjg0o2"
      }
    },
    {
      "cell_type": "code",
      "source": [
        "def armstrong(num):\n",
        "  num_original = num\n",
        "  sum = 0\n",
        "\n",
        "  while num:\n",
        "    rem = num % 10\n",
        "    sum = sum + (rem ** 3)\n",
        "    num = num // 10\n",
        "  return num_original == sum\n",
        "\n",
        "print(armstrong(153))"
      ],
      "metadata": {
        "colab": {
          "base_uri": "https://localhost:8080/"
        },
        "id": "lrIGOl8xg4Hl",
        "outputId": "768e3c9f-6861-41f6-bc72-3c23b4ab17d7"
      },
      "execution_count": null,
      "outputs": [
        {
          "output_type": "stream",
          "name": "stdout",
          "text": [
            "True\n"
          ]
        }
      ]
    },
    {
      "cell_type": "markdown",
      "source": [
        "## 5_Sum of even nos"
      ],
      "metadata": {
        "id": "aTu53t40Rrx-"
      }
    },
    {
      "cell_type": "code",
      "source": [
        "def sum_of_even_numbers(n):\n",
        "    \"\"\"\n",
        "    Function to return the sum of the first n even natural numbers.\n",
        "\n",
        "    Parameters:\n",
        "    n (int): The number of even numbers to sum.\n",
        "\n",
        "    Returns:\n",
        "    int: The sum of the first n even natural numbers.\n",
        "    \"\"\"\n",
        "    sum = 0\n",
        "    for i in range(1, n+1):\n",
        "      sum += 2*i\n",
        "    return sum\n",
        "\n",
        "print(sum_of_even_numbers(5))"
      ],
      "metadata": {
        "colab": {
          "base_uri": "https://localhost:8080/"
        },
        "id": "ypmZnkpcRvSJ",
        "outputId": "a05ba90d-6877-42b9-eaca-7cb137a6b3cd"
      },
      "execution_count": null,
      "outputs": [
        {
          "output_type": "stream",
          "name": "stdout",
          "text": [
            "30\n"
          ]
        }
      ]
    },
    {
      "cell_type": "markdown",
      "source": [
        "## 6_Check for even number"
      ],
      "metadata": {
        "id": "aVgOn42HTYCX"
      }
    },
    {
      "cell_type": "code",
      "source": [
        "def is_even(n):\n",
        "    \"\"\"\n",
        "    Function to check if a number is even.\n",
        "\n",
        "    Parameters:\n",
        "    n (int): The number to check.\n",
        "\n",
        "    Returns:\n",
        "    bool: True if n is even, False otherwise.\n",
        "    \"\"\"\n",
        "    if n % 2 == 0:\n",
        "        return True\n",
        "    else:\n",
        "        return False\n",
        "is_even(5)"
      ],
      "metadata": {
        "colab": {
          "base_uri": "https://localhost:8080/"
        },
        "id": "rKknkZsITavF",
        "outputId": "ad012aae-448b-4593-d50e-365c0eb4ab88"
      },
      "execution_count": null,
      "outputs": [
        {
          "output_type": "execute_result",
          "data": {
            "text/plain": [
              "False"
            ]
          },
          "metadata": {},
          "execution_count": 64
        }
      ]
    },
    {
      "cell_type": "markdown",
      "source": [
        "## 7_check for Prime"
      ],
      "metadata": {
        "id": "786dCLdTTiBv"
      }
    },
    {
      "cell_type": "code",
      "source": [
        "def is_prime(n):\n",
        "    \"\"\"\n",
        "    Function to check if a number is prime.\n",
        "\n",
        "    Parameters:\n",
        "    n (int): The number to check.\n",
        "\n",
        "    Returns:\n",
        "    bool: True if n is prime, False otherwise.\n",
        "    \"\"\"\n",
        "    if n < 2:\n",
        "      return False\n",
        "\n",
        "    for i in range(2, int(n ** 0.5) + 1):\n",
        "      if n%i == 0:\n",
        "        return False\n",
        "\n",
        "    return True\n",
        "\n",
        "is_prime(3)"
      ],
      "metadata": {
        "colab": {
          "base_uri": "https://localhost:8080/"
        },
        "id": "DZuFjBKdTlyK",
        "outputId": "eb04cd9a-5b05-4eae-a458-05b28ad1ccf3"
      },
      "execution_count": null,
      "outputs": [
        {
          "output_type": "execute_result",
          "data": {
            "text/plain": [
              "True"
            ]
          },
          "metadata": {},
          "execution_count": 70
        }
      ]
    },
    {
      "cell_type": "code",
      "source": [
        "def prime(starting_range, ending_range):\n",
        "    lst = []\n",
        "    for i in range(starting_range, ending_range):\n",
        "        flag = 0  # Reset flag for each number\n",
        "        for j in range(2, i):\n",
        "            if i % j == 0:\n",
        "                flag = 1\n",
        "                break\n",
        "        if flag == 0:\n",
        "            lst.append(i)\n",
        "    return lst\n",
        "\n",
        "\n",
        "# Driver program\n",
        "starting_range = 2\n",
        "ending_range = 7\n",
        "lst = prime(starting_range, ending_range)\n",
        "if len(lst) == 0:\n",
        "    print(\"There are no prime numbers in this range\")\n",
        "else:\n",
        "    print(\"The prime numbers in this range are: \", lst)\n",
        "\n"
      ],
      "metadata": {
        "colab": {
          "base_uri": "https://localhost:8080/"
        },
        "id": "zdyfyxTDkGYC",
        "outputId": "4fbe6793-2886-42cb-c5d8-df684b00d28f"
      },
      "execution_count": null,
      "outputs": [
        {
          "output_type": "stream",
          "name": "stdout",
          "text": [
            "The prime numbers in this range are:  [2, 3, 5]\n"
          ]
        }
      ]
    },
    {
      "cell_type": "markdown",
      "source": [
        "## 8_Fibanacci"
      ],
      "metadata": {
        "id": "ps6dHoFMqcsy"
      }
    },
    {
      "cell_type": "code",
      "source": [
        "def fib(n):\n",
        "  a = 0\n",
        "  b = 1\n",
        "  c = a+b\n",
        "  print(b)\n",
        "  print(c)\n",
        "\n",
        "  for i in range(2, n):\n",
        "      a = b\n",
        "      b = c\n",
        "      c = a+b\n",
        "      print(c)\n",
        "\n",
        "fib(10)\n"
      ],
      "metadata": {
        "colab": {
          "base_uri": "https://localhost:8080/"
        },
        "id": "_sCanbtgqfSa",
        "outputId": "55f9611e-bb87-47d0-804e-a73f3a3a11d4"
      },
      "execution_count": null,
      "outputs": [
        {
          "output_type": "stream",
          "name": "stdout",
          "text": [
            "1\n",
            "1\n",
            "2\n",
            "3\n",
            "5\n",
            "8\n",
            "13\n",
            "21\n",
            "34\n",
            "55\n"
          ]
        }
      ]
    },
    {
      "cell_type": "markdown",
      "source": [
        "## 9_To check a n is a fibanacci"
      ],
      "metadata": {
        "id": "fzeB67EctYFa"
      }
    },
    {
      "cell_type": "code",
      "source": [
        "# python program to check if x is a perfect square\n",
        "import math\n",
        "\n",
        "# A utility function that returns true if x is perfect square\n",
        "\n",
        "\n",
        "def isPerfectSquare(x):\n",
        "\ts = int(math.sqrt(x))\n",
        "\treturn s*s == x\n",
        "\n",
        "# Returns true if n is a Fibonacci Number, else false\n",
        "\n",
        "\n",
        "def isFibonacci(n):\n",
        "\n",
        "\t# n is Fibonacci if one of 5*n*n + 4 or 5*n*n - 4 or both\n",
        "\t# is a perfect square\n",
        "\treturn isPerfectSquare(5*n*n + 4) or isPerfectSquare(5*n*n - 4)\n",
        "\n",
        "\n",
        "# A utility function to test above functions\n",
        "for i in range(1, 11):\n",
        "\tif (isFibonacci(i) == True):\n",
        "\t\tprint(i, \"is a Fibonacci Number\")\n",
        "\telse:\n",
        "\t\tprint(i, \"is a not Fibonacci Number \")\n"
      ],
      "metadata": {
        "id": "LtuPJhNuta1f"
      },
      "execution_count": null,
      "outputs": []
    },
    {
      "cell_type": "markdown",
      "source": [
        "## 10_Check perfect square"
      ],
      "metadata": {
        "id": "l7jDUiecdGov"
      }
    },
    {
      "cell_type": "code",
      "source": [
        "def is_perfect_square(n):\n",
        "    \"\"\"\n",
        "    Check if a number is a perfect square.\n",
        "\n",
        "    Parameters:\n",
        "    n (int): The number to check.\n",
        "\n",
        "    Returns:\n",
        "    bool: True if n is a perfect square, False otherwise.\n",
        "    \"\"\"\n",
        "    if n < 0:\n",
        "        return False  # Negative numbers cannot be perfect squares\n",
        "\n",
        "    sqrt = int(n ** 0.5)  # Calculate the square root of n\n",
        "    return sqrt * sqrt == n  # Check if the square of sqrt equals n\n",
        "\n",
        "# Test cases\n",
        "print(is_perfect_square(16))"
      ],
      "metadata": {
        "id": "sxHyLazJdKKp"
      },
      "execution_count": null,
      "outputs": []
    },
    {
      "cell_type": "markdown",
      "source": [
        "## 11_Decimal to binary"
      ],
      "metadata": {
        "id": "xGKm5OyydqKD"
      }
    },
    {
      "cell_type": "code",
      "source": [
        "def decimal_to_binary(n):\n",
        "    \"\"\"\n",
        "    Convert a decimal number to binary.\n",
        "\n",
        "    Parameters:\n",
        "    n (int): The decimal number to convert.\n",
        "\n",
        "    Returns:\n",
        "    str: The binary representation of the number.\n",
        "    \"\"\"\n",
        "    if n == 0:\n",
        "        return \"0\"\n",
        "\n",
        "    binary = \"\"\n",
        "    while n > 0:\n",
        "        remainder = n % 2\n",
        "        binary = str(remainder) + binary\n",
        "        n = n // 2\n",
        "\n",
        "    return binary\n",
        "\n",
        "# Test cases\n",
        "print(decimal_to_binary(10))  # Output: 1010\n",
        "print(decimal_to_binary(0))   # Output: 0\n",
        "print(decimal_to_binary(1))   # Output: 1\n",
        "print(decimal_to_binary(255)) # Output: 11111111\n"
      ],
      "metadata": {
        "colab": {
          "base_uri": "https://localhost:8080/"
        },
        "id": "d0dWAjLWdttz",
        "outputId": "ea45c745-d0c4-4f0b-f341-ffbc84f836ef"
      },
      "execution_count": null,
      "outputs": [
        {
          "output_type": "stream",
          "name": "stdout",
          "text": [
            "1010\n",
            "0\n",
            "1\n",
            "11111111\n"
          ]
        }
      ]
    },
    {
      "cell_type": "markdown",
      "source": [
        "## 12_Binary to Decimal"
      ],
      "metadata": {
        "id": "SRs0WMbkedRK"
      }
    },
    {
      "cell_type": "code",
      "source": [
        "def binary_to_decimal(binary_str):\n",
        "    \"\"\"\n",
        "    Convert a binary number (string) to decimal without using built-in int() function.\n",
        "\n",
        "    Parameters:\n",
        "    binary_str (str): The binary number as a string.\n",
        "\n",
        "    Returns:\n",
        "    int: The decimal equivalent of the binary number.\n",
        "    \"\"\"\n",
        "    decimal = 0\n",
        "    length = len(binary_str)\n",
        "\n",
        "    # Iterate over the binary string and convert to decimal\n",
        "    for i in range(length):\n",
        "        # Get the bit at the current position (0 or 1)\n",
        "        bit = int(binary_str[i])\n",
        "\n",
        "        # Add the value of the bit multiplied by the corresponding power of 2\n",
        "        decimal += bit * (2 ** (length - i - 1))\n",
        "\n",
        "    return decimal\n",
        "\n",
        "# Test cases\n",
        "print(binary_to_decimal(\"1010\"))   # Output: 10\n",
        "print(binary_to_decimal(\"11111111\"))  # Output: 255\n",
        "print(binary_to_decimal(\"0\"))     # Output: 0\n",
        "print(binary_to_decimal(\"1\"))     # Output: 1\n",
        "\n"
      ],
      "metadata": {
        "colab": {
          "base_uri": "https://localhost:8080/"
        },
        "id": "Kc1NL5GZegmE",
        "outputId": "d7b71cf6-54db-4bff-afe3-92c4f117c3e4"
      },
      "execution_count": null,
      "outputs": [
        {
          "output_type": "stream",
          "name": "stdout",
          "text": [
            "10\n",
            "255\n",
            "0\n",
            "1\n"
          ]
        }
      ]
    },
    {
      "cell_type": "markdown",
      "source": [
        "## 13_GCD"
      ],
      "metadata": {
        "id": "U9_z-fkwghSL"
      }
    },
    {
      "cell_type": "code",
      "source": [
        "def gcd(a, b):\n",
        "    \"\"\"\n",
        "    Function to find the GCD of two numbers using the Euclidean algorithm.\n",
        "\n",
        "    Parameters:\n",
        "    a, b (int): The two numbers whose GCD is to be calculated.\n",
        "\n",
        "    Returns:\n",
        "    int: The GCD of the two numbers.\n",
        "    \"\"\"\n",
        "    while b != 0:\n",
        "      a, b = b, a%b\n",
        "\n",
        "    return a\n",
        "\n",
        "print(gcd(101, 10))  # Output: 1\n",
        "print(gcd(36, 60))  # Output: 12\n"
      ],
      "metadata": {
        "colab": {
          "base_uri": "https://localhost:8080/"
        },
        "id": "c7S8olBfgjWV",
        "outputId": "22ba2703-7346-4936-db27-e85d02597874"
      },
      "execution_count": null,
      "outputs": [
        {
          "output_type": "stream",
          "name": "stdout",
          "text": [
            "1\n",
            "12\n"
          ]
        }
      ]
    },
    {
      "cell_type": "markdown",
      "source": [
        "## 14_Print ascii value of a string\n"
      ],
      "metadata": {
        "id": "sFGDKEGaBMxw"
      }
    },
    {
      "cell_type": "code",
      "source": [
        "str = \"priya\"\n",
        "\n",
        "for ch in str:\n",
        "  print(ord(ch))"
      ],
      "metadata": {
        "id": "DZiPpDfHk9nc",
        "colab": {
          "base_uri": "https://localhost:8080/"
        },
        "outputId": "08b4ebea-5961-4a94-8493-cc352cc57441"
      },
      "execution_count": null,
      "outputs": [
        {
          "output_type": "stream",
          "name": "stdout",
          "text": [
            "112\n",
            "114\n",
            "105\n",
            "121\n",
            "97\n"
          ]
        }
      ]
    },
    {
      "cell_type": "markdown",
      "source": [
        "## 15_sum of squares of first n natural numbers"
      ],
      "metadata": {
        "id": "NvC8dMR6Bu5U"
      }
    },
    {
      "cell_type": "code",
      "source": [
        "sum = 0\n",
        "n = 5\n",
        "\n",
        "for i in range(n):\n",
        "  sum = sum + i**2\n",
        "\n",
        "print(sum)"
      ],
      "metadata": {
        "colab": {
          "base_uri": "https://localhost:8080/"
        },
        "id": "7owtAv7LByZB",
        "outputId": "18f81bb9-f119-4b1f-b92f-fd008a2580cc"
      },
      "execution_count": null,
      "outputs": [
        {
          "output_type": "stream",
          "name": "stdout",
          "text": [
            "30\n"
          ]
        }
      ]
    },
    {
      "cell_type": "markdown",
      "source": [
        "# Bits Related Question"
      ],
      "metadata": {
        "id": "qUuE3fpZiDAA"
      }
    },
    {
      "cell_type": "markdown",
      "source": [
        "Signed integer  $-2^n-1  to  {2^(n-1)} – 1$\n",
        "\n",
        "The first bit in a signed representation is the sign of the number, 0 for non-negative numbers and 1 for negative numbers and the remaining n−1 bits contain the magnitude of the number.\n",
        "\n",
        "Two’s complement is used, which means that the opposite number of a number is calculated by first inverting all the bits in the number, and then increasing the number by one.\n",
        "The bit representation of the int number −43 is 11111111111111111111111111010101\n",
        "\n",
        "signed integer\n",
        "\n",
        "An unsigned variable of n bits can contain any integer between 0 and $2^n −1$.\n",
        "\n",
        "A signed number −x equals an unsigned number $2^n − x$.\n",
        "For example, the following pseudo-code snippet shows that the signed number\n",
        "x = −43 equals the unsigned number y = $2^(32) −43$"
      ],
      "metadata": {
        "id": "cJts7uofWZUn"
      }
    },
    {
      "cell_type": "markdown",
      "source": [
        "1. The left-shift and right-shift operators should not be used for negative numbers.\n",
        "2. The bitwise OR of two numbers is simply the sum of those two numbers if there is no carry involved; otherwise, you add their bitwise AND.\n",
        "Let’s say, we have a=5(101) and b=2(010), since there is no carry involved, their sum is just a|b. Now, if we change ‘b’ to 6 which is 110 in binary, their sum would change to a|b + a&b since there is a carry involved.\n",
        "3. The bitwise XOR operator is the most useful operator from a technical interview perspective.\n",
        "5. The left-shift and right-shift operators are equivalent to multiplication and division by 2 respectively.\n",
        "6. The & operator can be used to quickly check if a number is odd or even.\n",
        "7. The ~ operator should be used carefully.\n",
        "\n",
        "The result of the ~ operator on a small number can be a big number if the result is stored in an unsigned variable. The result may be a negative number if the result is stored in a signed variable (assuming that the negative numbers are stored in 2’s complement form where the leftmost bit is the sign bit)."
      ],
      "metadata": {
        "id": "Az4TPBZkYaYY"
      }
    },
    {
      "cell_type": "markdown",
      "source": [
        "1. Count the number of 1s in the binary representation of a number.\n",
        "2. Check if a number is a power of two.\n",
        "3. Find the only non-repeating element in an array where every other element repeats twice.\n",
        "4. Find two non-repeating elements in an array where every other element repeats twice.\n",
        "5. Check if a number has alternating bits (e.g., 101010).\n",
        "6. Reverse the bits of a given 32-bit unsigned integer.\n",
        "7. Count the number of bits to flip to convert one number to another.\n",
        "8. Find the position of the rightmost set bit in a number.\n",
        "9. Determine if a number is odd or even using bit manipulation.\n",
        "10. Swap two numbers without using a temporary variable.\n",
        "11. Find the missing number in an array containing numbers from 1 to N, with one missing.\n",
        "12. Calculate the XOR of all elements in a given range [L, R].\n",
        "13. Generate all possible subsets of a given set using bits.\n",
        "17. Check if two numbers have opposite signs.\n",
        "18. Implement addition of two numbers without using the + operator.\n",
        "19. Find the parity (odd or even) of a number of set bits in a binary representation.\n",
        "20. Clear the least significant set bit of a number."
      ],
      "metadata": {
        "id": "Nr_StrPzldcn"
      }
    },
    {
      "cell_type": "markdown",
      "source": [
        "# Reg Ex Related Question"
      ],
      "metadata": {
        "id": "LLUA-D7PiF8R"
      }
    },
    {
      "cell_type": "markdown",
      "source": [
        "## 1_Check if String Contain Only Defined Characters using Regex"
      ],
      "metadata": {
        "id": "SdcYLZ6kfdUa"
      }
    },
    {
      "cell_type": "code",
      "source": [
        "import re\n",
        "text = '657'\n",
        "pattern = re.compile('^[87654]+$')\n",
        "\n",
        "if re.match(pattern, text):\n",
        "  print(\"Valid\")\n",
        "else:\n",
        "  print(\"invalid\")"
      ],
      "metadata": {
        "colab": {
          "base_uri": "https://localhost:8080/"
        },
        "id": "Yy7bw_vNfejO",
        "outputId": "2c556ac0-be21-4252-9a52-9d8187ac2c10"
      },
      "execution_count": null,
      "outputs": [
        {
          "output_type": "stream",
          "name": "stdout",
          "text": [
            "Valid\n"
          ]
        }
      ]
    },
    {
      "cell_type": "markdown",
      "source": [
        "## 2_Python program to Count Uppercase, Lowercase, special character and numeric values using Regex"
      ],
      "metadata": {
        "id": "0wl0bqjFhink"
      }
    },
    {
      "cell_type": "code",
      "source": [
        "import re\n",
        "\n",
        "\n",
        "string = \"ThisIsGeeksforGeeks !, 123\"\n",
        "\n",
        "# Creating separate lists using\n",
        "# the re.findall() method.\n",
        "uppercase_characters = re.findall(r\"[A-Z]\", string)\n",
        "lowercase_characters = re.findall(r\"[a-z]\", string)\n",
        "numerical_characters = re.findall(r\"[0-9]\", string)\n",
        "special_characters = re.findall(r\"[, .!?]\", string)\n",
        "\n",
        "print(\"The no. of uppercase characters is\", len(uppercase_characters))\n",
        "print(\"The no. of lowercase characters is\", len(lowercase_characters))\n",
        "print(\"The no. of numerical characters is\", len(numerical_characters))\n",
        "print(\"The no. of special characters is\", len(special_characters))\n"
      ],
      "metadata": {
        "id": "nMVBX4f9hql6"
      },
      "execution_count": null,
      "outputs": []
    },
    {
      "cell_type": "markdown",
      "source": [
        "## 3_The most occurring number in a string using Regex in python"
      ],
      "metadata": {
        "id": "OIC_vhE7i51i"
      }
    },
    {
      "cell_type": "code",
      "source": [
        "word = 'geek55of55gee4ksabc3dr2x'\n",
        "\n",
        "arr = re.findall(r'[0-9]+', word)\n",
        "maxi = 0\n",
        "\n",
        "dict_1 = {}\n",
        "\n",
        "for i in arr:\n",
        "  if i in dict_1:\n",
        "    dict_1[i] += 1\n",
        "  else:\n",
        "    dict_1[i] = 1\n",
        "\n",
        "for k, v in dict_1.items():\n",
        "\n",
        "  if v > maxi:\n",
        "    maxi = v\n",
        "\n",
        "for k, v in dict_1.items():\n",
        "  if v == maxi:\n",
        "    print(k)"
      ],
      "metadata": {
        "colab": {
          "base_uri": "https://localhost:8080/"
        },
        "id": "DXsGAmJEi7S9",
        "outputId": "7aaffbc3-b99a-47f0-c81f-9eb23a117ebd"
      },
      "execution_count": null,
      "outputs": [
        {
          "output_type": "stream",
          "name": "stdout",
          "text": [
            "55\n"
          ]
        }
      ]
    },
    {
      "cell_type": "markdown",
      "source": [
        "## 4_Find max no in a string"
      ],
      "metadata": {
        "id": "cLMeG55Lj8gc"
      }
    },
    {
      "cell_type": "code",
      "source": [
        "import re\n",
        "\n",
        "s = \"The price is 120 dollars, and the discount is 50, saving 70 more.\"\n",
        "#max_value\n",
        "list_1 =  re.findall(r'\\d+', s)\n",
        "print(max)\n",
        "m = max([int(num) for num in list_1])\n",
        "print(m)\n"
      ],
      "metadata": {
        "colab": {
          "base_uri": "https://localhost:8080/",
          "height": 211
        },
        "id": "POFHbc6_kCK7",
        "outputId": "135a58cf-3904-4928-cdef-43540ad5f748"
      },
      "execution_count": null,
      "outputs": [
        {
          "output_type": "stream",
          "name": "stdout",
          "text": [
            "2\n"
          ]
        },
        {
          "output_type": "error",
          "ename": "TypeError",
          "evalue": "'int' object is not callable",
          "traceback": [
            "\u001b[0;31m---------------------------------------------------------------------------\u001b[0m",
            "\u001b[0;31mTypeError\u001b[0m                                 Traceback (most recent call last)",
            "\u001b[0;32m<ipython-input-20-636253e9ff76>\u001b[0m in \u001b[0;36m<cell line: 0>\u001b[0;34m()\u001b[0m\n\u001b[1;32m      5\u001b[0m \u001b[0mlist_1\u001b[0m \u001b[0;34m=\u001b[0m  \u001b[0mre\u001b[0m\u001b[0;34m.\u001b[0m\u001b[0mfindall\u001b[0m\u001b[0;34m(\u001b[0m\u001b[0;34mr'\\d+'\u001b[0m\u001b[0;34m,\u001b[0m \u001b[0ms\u001b[0m\u001b[0;34m)\u001b[0m\u001b[0;34m\u001b[0m\u001b[0;34m\u001b[0m\u001b[0m\n\u001b[1;32m      6\u001b[0m \u001b[0mprint\u001b[0m\u001b[0;34m(\u001b[0m\u001b[0mmax\u001b[0m\u001b[0;34m)\u001b[0m\u001b[0;34m\u001b[0m\u001b[0;34m\u001b[0m\u001b[0m\n\u001b[0;32m----> 7\u001b[0;31m \u001b[0mm\u001b[0m \u001b[0;34m=\u001b[0m \u001b[0mmax\u001b[0m\u001b[0;34m(\u001b[0m\u001b[0;34m[\u001b[0m\u001b[0mint\u001b[0m\u001b[0;34m(\u001b[0m\u001b[0mnum\u001b[0m\u001b[0;34m)\u001b[0m \u001b[0;32mfor\u001b[0m \u001b[0mnum\u001b[0m \u001b[0;32min\u001b[0m \u001b[0mlist_1\u001b[0m\u001b[0;34m]\u001b[0m\u001b[0;34m)\u001b[0m\u001b[0;34m\u001b[0m\u001b[0;34m\u001b[0m\u001b[0m\n\u001b[0m\u001b[1;32m      8\u001b[0m \u001b[0mprint\u001b[0m\u001b[0;34m(\u001b[0m\u001b[0mm\u001b[0m\u001b[0;34m)\u001b[0m\u001b[0;34m\u001b[0m\u001b[0;34m\u001b[0m\u001b[0m\n",
            "\u001b[0;31mTypeError\u001b[0m: 'int' object is not callable"
          ]
        }
      ]
    },
    {
      "cell_type": "markdown",
      "source": [
        "## 5_Python to put spaces between words starting with capital letters"
      ],
      "metadata": {
        "id": "fHmPwVyUlDjf"
      }
    },
    {
      "cell_type": "code",
      "source": [
        "import re\n",
        "\n",
        "def putSpace(input):\n",
        "\n",
        "\t# regex [A-Z][a-z]* means any string starting\n",
        "\t# with capital character followed by many\n",
        "\t# lowercase letters\n",
        "\twords = re.findall('[A-Z][a-z]*', input)\n",
        "\n",
        "\t# Change first letter of each word into lower\n",
        "\t# case\n",
        "\tfor i in range(0,len(words)):\n",
        "\t  words[i]=words[i][0].lower()+words[i][1:]\n",
        "\tprint(' '.join(words))\n",
        "\n",
        "\n",
        "# Driver program\n",
        "if __name__ == \"__main__\":\n",
        "\tinput = 'BruceWayneIsBatman'\n",
        "\tputSpace(input)\n"
      ],
      "metadata": {
        "colab": {
          "base_uri": "https://localhost:8080/"
        },
        "id": "Z8KWbKIJlF0L",
        "outputId": "35166903-c965-4e54-ee46-3f4e5f6132f6"
      },
      "execution_count": null,
      "outputs": [
        {
          "output_type": "stream",
          "name": "stdout",
          "text": [
            "bruce wayne is batman\n"
          ]
        }
      ]
    },
    {
      "cell_type": "markdown",
      "source": [
        "## 6_Check whether a string starts and ends with the same character or not"
      ],
      "metadata": {
        "id": "XsypBjUPm7zK"
      }
    },
    {
      "cell_type": "code",
      "source": [
        "# Python program to check if a string starts\n",
        "# and ends with the same character\n",
        "\n",
        "# import re module as it provides\n",
        "# support for regular expressions\n",
        "import re\n",
        "\n",
        "# the regular expression\n",
        "regex = r'^[a-z]$|^([a-z]).*\\1$'\n",
        "\n",
        "# function for checking the string\n",
        "def check(string):\n",
        "\n",
        "\t# pass the regular expression\n",
        "\t# and the string in the search() method\n",
        "\tif(re.search(regex, string)):\n",
        "\t\tprint(\"Valid\")\n",
        "\telse:\n",
        "\t\tprint(\"Invalid\")\n",
        "\n",
        "if __name__ == '__main__' :\n",
        "\n",
        "\tsample1 = \"abba\"\n",
        "\tsample2 = \"a\"\n",
        "\tsample3 = \"abcd\"\n",
        "\n",
        "\tcheck(sample1)\n",
        "\tcheck(sample2)\n",
        "\tcheck(sample3)\n"
      ],
      "metadata": {
        "id": "ydfQpt9sm8_k"
      },
      "execution_count": null,
      "outputs": []
    },
    {
      "cell_type": "markdown",
      "source": [
        "## 7_ Find one upper case followed by lower case"
      ],
      "metadata": {
        "id": "bxI4mmzpnaey"
      }
    },
    {
      "cell_type": "code",
      "source": [
        "import re\n",
        "\n",
        "def findSequence(text):\n",
        "      # regex pattern\n",
        "    pattern = '[A-Z][a-z]+'\n",
        "\n",
        "    # Use re.search to find any match\n",
        "    if re.search(pattern, text):\n",
        "        return 'Yes'\n",
        "    else:\n",
        "        return 'No'\n",
        "\n",
        "# Driver program\n",
        "if __name__ == \"__main__\":\n",
        "    word = 'geeAkAA55of55gee4ksabc3Ar2x'\n",
        "    print(findSequence(word))\n",
        "    word = 'Geeks'\n",
        "    print(findSequence(word))\n",
        "    word = 'geeksforgeeks'\n",
        "    print(findSequence(word))\n"
      ],
      "metadata": {
        "id": "FORWAa0MnhJq"
      },
      "execution_count": null,
      "outputs": []
    },
    {
      "cell_type": "markdown",
      "source": [
        "## 8_Remove duplicate words in a sentence"
      ],
      "metadata": {
        "id": "L2bRpT_0tBsv"
      }
    },
    {
      "cell_type": "code",
      "source": [
        "# Python program to remove duplicate words\n",
        "# using Regular Expression or ReGex.\n",
        "import re\n",
        "\n",
        "\n",
        "# Function to validate the sentence\n",
        "# and remove the duplicate words\n",
        "def removeDuplicateWords(input):\n",
        "\n",
        "    # Regex to matching repeated words\n",
        "    regex = r'\\b(\\w+)(?:\\W+\\1\\b)+'\n",
        "\n",
        "    return re.sub(regex, r'\\1', input, flags=re.IGNORECASE)\n",
        "\n",
        "\n",
        "# Driver Code\n",
        "\n",
        "# Test Case: 1\n",
        "str1 = \"Good bye bye world world\"\n",
        "print(removeDuplicateWords(str1))\n",
        "\n",
        "# Test Case: 2\n",
        "str2 = \"Ram went went to to his home\"\n",
        "print(removeDuplicateWords(str2))\n",
        "\n",
        "# Test Case: 3\n",
        "str3 = \"Hello hello world world\"\n",
        "print(removeDuplicateWords(str3))\n",
        "\n",
        "# This code is contributed by yuvraj_chandra\n"
      ],
      "metadata": {
        "id": "gQU1oZeHtGhJ"
      },
      "execution_count": null,
      "outputs": []
    },
    {
      "cell_type": "markdown",
      "source": [
        "## 9_Remove all characters except letters and numbers"
      ],
      "metadata": {
        "id": "lyWRwYK8tkkV"
      }
    },
    {
      "cell_type": "code",
      "source": [
        "import re\n",
        "\n",
        "# Input string\n",
        "s1 = \"Hello, World! 123 @Python$\"\n",
        "\n",
        "# Remove all characters except letters and numbers using regex\n",
        "s2 = re.sub(r'[^a-zA-Z0-9]', '', s1)\n",
        "\n",
        "# Print the cleaned string\n",
        "print(s2)\n"
      ],
      "metadata": {
        "id": "Ak4mh5YVto0N"
      },
      "execution_count": null,
      "outputs": []
    },
    {
      "cell_type": "markdown",
      "source": [
        "# File Handling Question"
      ],
      "metadata": {
        "id": "2LA7_CR_iLpp"
      }
    },
    {
      "cell_type": "markdown",
      "source": [
        "# Linked List Related Question"
      ],
      "metadata": {
        "id": "M_S3deY3iRP6"
      }
    },
    {
      "cell_type": "code",
      "source": [
        "class Node:\n",
        "  def __init__(self, data=None, next=None):\n",
        "    self.data = data\n",
        "    self.next = next\n",
        "\n",
        "class Linkedlist:\n",
        "  def __init__(self):\n",
        "    self.head = None\n",
        "\n",
        "  def insert_at_begin(self, data):\n",
        "    node = Node(data, self.head) # the current head become next pointer since we add at the begining\n",
        "    self.head = node\n",
        "\n",
        "  def insert_at_end(self, data):\n",
        "    if self.head is None:\n",
        "      self.head = Node(data, None)\n",
        "    else:\n",
        "      itr = self.head\n",
        "\n",
        "      while itr.next:\n",
        "        itr = itr.next\n",
        "\n",
        "      itr.next = Node(data, None)\n",
        "\n",
        "  def insert_values(self, data_list):\n",
        "    self.head = None\n",
        "    for data in data_list:\n",
        "      self.insert_at_end(data)\n",
        "\n",
        "  def get_length(self):\n",
        "    count =0\n",
        "    itr = self.head\n",
        "    while itr:\n",
        "      itr = itr.next\n",
        "      count += 1\n",
        "    return count\n",
        "\n",
        "  def remove_at(self, index):\n",
        "    if index < 0 or index >= self.get_length():\n",
        "      raise Exception(\"Invalid Index\")\n",
        "    if index == 0:\n",
        "      self.head = self.head.next\n",
        "      return\n",
        "\n",
        "    count = 0\n",
        "    itr = self.head\n",
        "    while itr:\n",
        "      if count == index-1:\n",
        "        itr.next = itr.next.next\n",
        "        break\n",
        "      itr = itr.next\n",
        "      count += 1\n",
        "\n",
        "  def insert_at(self, index, data):\n",
        "    if index < 0 or index >= self.get_length():\n",
        "      raise Exception(\"Invalid Index\")\n",
        "    if index == 0:\n",
        "      self.insert_at_begin(data)\n",
        "      return\n",
        "\n",
        "    count = 0\n",
        "    itr = self.head\n",
        "    while itr:\n",
        "      if count == index-1:\n",
        "        node = Node(data, itr.next)\n",
        "        itr.next = node\n",
        "        break\n",
        "\n",
        "      itr = itr.next\n",
        "      count += 1\n",
        "\n",
        "\n",
        "\n",
        "  def print(self):\n",
        "    itr = self.head\n",
        "    llstr = \"\"\n",
        "\n",
        "    while itr:\n",
        "      llstr += str(itr.data) + \"-->\"\n",
        "      itr = itr.next\n",
        "\n",
        "    print(llstr)\n",
        "\n",
        "ll = Linkedlist()\n",
        "# ll.insert_at_begin(5)\n",
        "# ll.insert_at_begin(6)\n",
        "# ll.insert_at_end(1)\n",
        "# ll.insert_at_end(2)\n",
        "# print(ll.get_length())\n",
        "ll.insert_values(['G','O','R'])\n",
        "ll.insert_at(0,'S')\n",
        "ll.print()"
      ],
      "metadata": {
        "colab": {
          "base_uri": "https://localhost:8080/"
        },
        "id": "ZI2A88CnvmC9",
        "outputId": "f76ad2e5-a584-46cc-e495-b6b8d523d6e9"
      },
      "execution_count": null,
      "outputs": [
        {
          "output_type": "stream",
          "name": "stdout",
          "text": [
            "S-->G-->O-->R-->\n"
          ]
        }
      ]
    },
    {
      "cell_type": "markdown",
      "source": [
        "## 2_Reverse a linked list"
      ],
      "metadata": {
        "id": "JU8ae3S7OFSw"
      }
    },
    {
      "cell_type": "markdown",
      "source": [
        "## 3_Detect a cycle in the linked list"
      ],
      "metadata": {
        "id": "Kg14KiySOJ7j"
      }
    },
    {
      "cell_type": "markdown",
      "source": [
        "## 4_Find the middle of a linked list"
      ],
      "metadata": {
        "id": "Hw3YsaTiOSSm"
      }
    },
    {
      "cell_type": "markdown",
      "source": [
        "## 5_Merge two sorted linked_list"
      ],
      "metadata": {
        "id": "3ti7nxaBOV2M"
      }
    },
    {
      "cell_type": "markdown",
      "source": [
        "## 6_Remove duplicates in a linked lsit"
      ],
      "metadata": {
        "id": "p7IG0XRQOaYL"
      }
    },
    {
      "cell_type": "markdown",
      "source": [
        "## 7_Find the Intersection Point of Two Linked Lists"
      ],
      "metadata": {
        "id": "YkI8FQz5Ok8e"
      }
    },
    {
      "cell_type": "markdown",
      "source": [
        "## 8_Check if a Linked List is a Palindrome"
      ],
      "metadata": {
        "id": "avmLtxxFOmZu"
      }
    },
    {
      "cell_type": "markdown",
      "source": [
        "# Stack Related Question"
      ],
      "metadata": {
        "id": "bJ74whA-iUrt"
      }
    },
    {
      "cell_type": "markdown",
      "source": [
        "## 1_Implement Stack without using inbuilt function"
      ],
      "metadata": {
        "id": "Vegr-7mb3BlG"
      }
    },
    {
      "cell_type": "code",
      "source": [
        "class stack:\n",
        "    def __init__(self):\n",
        "        self.data = []\n",
        "\n",
        "    def pop(self):\n",
        "        if not self.data:\n",
        "            raise IndexError(\"Pop from empty stack\")  # Raise error if empty\n",
        "        return self.data.pop()\n",
        "\n",
        "    def peek(self):\n",
        "        if not self.data:\n",
        "            return None  # Return None if empty instead of causing an error\n",
        "        return self.data[-1]\n",
        "\n",
        "    def push(self, value):\n",
        "        self.data.append(value)\n",
        "\n",
        "    def is_empty(self):\n",
        "        return len(self.data) == 0\n",
        "\n",
        "    def size(self):\n",
        "        return len(self.data)\n",
        "\n",
        "\n",
        "st = stack()\n",
        "\n",
        "st.push(1)\n",
        "st.push(2)\n",
        "st.push(3)\n",
        "print(st.peek())       # Expected output: 3\n",
        "print(st.is_empty())   # Expected output: False\n",
        "print(st.size())       # Expected output: 3\n",
        "print(st.pop())        # Expected output: 3\n",
        "print(st.pop())        # Expected output: 2\n",
        "print(st.pop())        # Expected output: 1\n",
        "print(st.pop())        # Raises IndexError: Pop from empty stack\n"
      ],
      "metadata": {
        "colab": {
          "base_uri": "https://localhost:8080/"
        },
        "id": "hyW5Op3L3FlF",
        "outputId": "798edcfb-740d-433c-90f8-413db0d5e5f3"
      },
      "execution_count": null,
      "outputs": [
        {
          "output_type": "stream",
          "name": "stdout",
          "text": [
            "None\n",
            "False\n",
            "3\n"
          ]
        }
      ]
    },
    {
      "cell_type": "markdown",
      "source": [
        "## 2_Balancing Equation"
      ],
      "metadata": {
        "id": "84_KbJyW5mew"
      }
    },
    {
      "cell_type": "code",
      "source": [
        "# Given a string s containing just the characters '(', ')', '{', '}', '[', and ']',\n",
        "# determine if the input string is valid.\n",
        "\n",
        "# A string is valid if:\n",
        "\n",
        "# Open brackets must be closed by the same type of brackets.\n",
        "# Open brackets must be closed in the correct order.\n",
        "# Every close bracket has a corresponding open bracket of the same type."
      ],
      "metadata": {
        "id": "4Wu6EjSgsXxC"
      },
      "execution_count": null,
      "outputs": []
    },
    {
      "cell_type": "code",
      "source": [
        "def is_valid_brute(s):\n",
        "    while True:\n",
        "        new_s = s.replace(\"()\", \"\").replace(\"{}\", \"\").replace(\"[]\", \"\")\n",
        "        if new_s == s:  # If no change, stop looping\n",
        "            break\n",
        "        s = new_s  # Update s to the new string\n",
        "    return s == \"\"  # If empty, it's valid\n",
        "\n",
        "# Test cases\n",
        "# print(is_valid_brute(\"[(\"))       # Output: False\n",
        "# print(is_valid_brute(\"{[()]}\"))   # Output: True\n",
        "print(is_valid_brute(\"()[]{}\"))   # Output: True\n",
        "# print(is_valid_brute(\"([)]\"))     # Output: False\n"
      ],
      "metadata": {
        "colab": {
          "base_uri": "https://localhost:8080/"
        },
        "outputId": "e3a30050-c892-4e17-9db1-6394432bcc23",
        "id": "BKro08xCsi1-"
      },
      "execution_count": null,
      "outputs": [
        {
          "output_type": "stream",
          "name": "stdout",
          "text": [
            "1\n",
            "1\n",
            "True\n"
          ]
        }
      ]
    },
    {
      "cell_type": "code",
      "source": [
        "def is_balanced(expr):\n",
        "    stack = []\n",
        "    mapping = {')': '(', '}': '{', ']': '['}\n",
        "\n",
        "    for char in expr:\n",
        "        if char in mapping:\n",
        "            top_element = stack.pop() if stack else '#'\n",
        "            if mapping[char] != top_element:\n",
        "                return False\n",
        "        else:\n",
        "            stack.append(char)\n",
        "\n",
        "    return not stack\n",
        "\n",
        "# Example usage\n",
        "print(is_balanced(\"{[()]}\"))  # Output: True\n",
        "print(is_balanced(\"{[(])}\"))  # Output: False\n"
      ],
      "metadata": {
        "id": "v330ERRPvuad"
      },
      "execution_count": null,
      "outputs": []
    },
    {
      "cell_type": "markdown",
      "source": [
        "## 3_ using deque"
      ],
      "metadata": {
        "id": "nwG7nNmtwYLA"
      }
    },
    {
      "cell_type": "code",
      "source": [
        "from collections import deque\n",
        "\n",
        "class Stack:\n",
        "    def __init__(self):\n",
        "        self.stack = deque()\n",
        "\n",
        "    def push(self, item):\n",
        "        self.stack.append(item)\n",
        "\n",
        "    def pop(self):\n",
        "        return self.stack.pop() if self.stack else \"Stack is empty\"\n",
        "\n",
        "    def peek(self):\n",
        "        return self.stack[-1] if self.stack else \"Stack is empty\"\n",
        "\n",
        "    def is_empty(self):\n",
        "        return not self.stack\n",
        "\n",
        "# Example usage\n",
        "s = Stack()\n",
        "s.push(5)\n",
        "s.push(15)\n",
        "print(s.pop())  # Output: 15\n"
      ],
      "metadata": {
        "id": "6PBnW0kswaPi"
      },
      "execution_count": null,
      "outputs": []
    },
    {
      "cell_type": "markdown",
      "source": [
        "Why is deque Better than list?\n",
        "Avoids Resizing Overhead:\n",
        "\n",
        "list is implemented as a dynamic array, so when it grows beyond capacity, Python needs to allocate new memory and copy elements, which can be expensive.\n",
        "deque is implemented as a doubly linked list, so it doesn’t require resizing.\n",
        "Efficient Insertions and Deletions from Both Ends:\n",
        "\n",
        "list.pop(0) (removing from the front) is O(n) since all elements must shift left.\n",
        "deque.popleft() is O(1) since it directly removes from the front.\n",
        "Better for Large Data Operations:\n",
        "\n",
        "deque avoids memory reallocation issues seen in large list operations.\n",
        "\n",
        "When to Use What?\n",
        "✅ Use deque if you need fast appends and pops from both ends.\n",
        "✅ Use list if you only push and pop from the end and need random access (O(1) indexing).\n",
        "\n",
        "For a stack, both list and deque provide O(1) push/pop at the end.\n",
        "Deque is better if you need more flexible insertions/removals.\n",
        "Deque avoids list resizing overhead, making it slightly more efficient in certain cases.\n"
      ],
      "metadata": {
        "id": "HHAmky41xOGN"
      }
    },
    {
      "cell_type": "markdown",
      "source": [
        "## 4_Next Greater Element"
      ],
      "metadata": {
        "id": "MvalXqEDz24f"
      }
    },
    {
      "cell_type": "code",
      "source": [
        "def next_greater_brute(arr):\n",
        "    n = len(arr)\n",
        "    result = []\n",
        "\n",
        "    for i in range(n):\n",
        "        next_greater = -1\n",
        "        for j in range(i + 1, n):  # Look for greater elements on the right\n",
        "            if arr[j] > arr[i]:\n",
        "                next_greater = arr[j]\n",
        "                break\n",
        "        result.append(next_greater)\n",
        "\n",
        "    return result\n",
        "\n",
        "# Test\n",
        "print(next_greater_brute([4, 5, 2, 10, 8]))\n",
        "# Output: [5, 10, 10, -1, -1]\n"
      ],
      "metadata": {
        "id": "aPz5Mxtiz6Fg"
      },
      "execution_count": null,
      "outputs": []
    },
    {
      "cell_type": "code",
      "source": [
        "def next_greater_element(arr):\n",
        "    stack = []\n",
        "    result = [-1] * len(arr)\n",
        "\n",
        "    for i in range(len(arr) - 1, -1, -1):\n",
        "        while stack and stack[-1] <= arr[i]:\n",
        "            stack.pop()\n",
        "        result[i] = stack[-1] if stack else -1\n",
        "        stack.append(arr[i])\n",
        "\n",
        "    return result\n",
        "\n",
        "# Example usage\n",
        "print(next_greater_element([4, 5, 2, 25]))  # Output: [5, 25, 25, -1]\n"
      ],
      "metadata": {
        "id": "dFd6KxqUxM3T"
      },
      "execution_count": null,
      "outputs": []
    },
    {
      "cell_type": "markdown",
      "source": [
        "## 5_Reverse a string using stack"
      ],
      "metadata": {
        "id": "Rqrl1b3i0J44"
      }
    },
    {
      "cell_type": "code",
      "source": [
        "def reverse_string(s):\n",
        "    stack = list(s)\n",
        "    reversed_str = \"\"\n",
        "\n",
        "    while stack:\n",
        "        reversed_str += stack.pop()\n",
        "\n",
        "    return reversed_str\n",
        "\n",
        "# Example usage\n",
        "print(reverse_string(\"hello\"))  # Output: \"olleh\"\n"
      ],
      "metadata": {
        "id": "eT5zPZbW0M1V"
      },
      "execution_count": null,
      "outputs": []
    },
    {
      "cell_type": "markdown",
      "source": [
        "# other misc Questions"
      ],
      "metadata": {
        "id": "BIcgKr8aiXEo"
      }
    },
    {
      "cell_type": "markdown",
      "source": [
        "Two Sum (Leetcode 1) – Find two numbers in a list that add up to a target.\n",
        "\n",
        "Remove Duplicates from Sorted Array (Leetcode 26) – Remove duplicates from a sorted list in-place.\n",
        "\n",
        "Remove Element (Leetcode 27) – Remove a specific element from a list in-place.\n",
        "\n",
        "Maximum Subarray (Leetcode 53) – Find the contiguous subarray with the largest sum (Kadane’s Algorithm).\n",
        "\n",
        "Merge Sorted Array (Leetcode 88) – Merge two sorted lists in-place.\n",
        "\n",
        "Best Time to Buy and Sell Stock (Leetcode 121) – Find the maximum profit by buying and selling a stock once.\n",
        "\n",
        "Contains Duplicate (Leetcode 217) – Check if a list contains duplicate elements.\n",
        "\n",
        "Intersection of Two Arrays (Leetcode 349) – Find the common elements between two lists.\n",
        "\n",
        "Move Zeroes (Leetcode 283) – Move all zeroes in a list to the end while maintaining order.\n",
        "\n",
        "Plus One (Leetcode 66) – Increment a number represented as a list of digits.\n",
        "\n",
        "Valid Palindrome (Leetcode 125) – Check if a string is a palindrome (ignoring cases and non-alphanumeric characters).\n",
        "\n",
        "Reverse String (Leetcode 344) – Reverse a string in-place.\n",
        "\n",
        "Reverse Words in a String III (Leetcode 557) – Reverse each word in a sentence while keeping their order.\n",
        "\n",
        "Implement strStr() (Leetcode 28) – Find the first occurrence of a substring inside another string (similar to Python’s .find()).\n",
        "\n",
        "Longest Common Prefix (Leetcode 14) – Find the longest common prefix among a list of strings.\n",
        "\n",
        "Valid Anagram (Leetcode 242) – Check if two strings are anagrams (contain the same characters with the same frequency).\n",
        "\n",
        "First Unique Character in a String (Leetcode 387) – Find the first non-repeating character and return its index.\n",
        "\n",
        "To Lower Case (Leetcode 709) – Convert all uppercase letters in a string to lowercase.\n",
        "\n",
        "Defanging an IP Address (Leetcode 1108) – Replace dots (.) in an IP address with [.].\n",
        "\n",
        "Shuffle String (Leetcode 1528) – Reorder characters in a string based on given indices.\n",
        "\n",
        "If you're preparing for **LeetCode interviews in Python**, here are some of the **most commonly asked LeetCode questions**, categorized by topic:  \n",
        "\n",
        "---\n",
        "\n",
        "### **1️⃣ Arrays & Hashing**  \n",
        "1. **[Two Sum](https://leetcode.com/problems/two-sum/) (Leetcode 1)** – Find two numbers that sum to a target. *(HashMap solution in O(n))*  \n",
        "2. **[Contains Duplicate](https://leetcode.com/problems/contains-duplicate/) (Leetcode 217)** – Check if an array contains duplicates.  \n",
        "3. **[Valid Anagram](https://leetcode.com/problems/valid-anagram/) (Leetcode 242)** – Check if two strings are anagrams.  \n",
        "4. **[Group Anagrams](https://leetcode.com/problems/group-anagrams/) (Leetcode 49)** – Group words that are anagrams. *(Use defaultdict & sorting!)*  \n",
        "5. **[Top K Frequent Elements](https://leetcode.com/problems/top-k-frequent-elements/) (Leetcode 347)** – Find the `k` most frequent elements. *(Heap or Bucket Sort solution!)*  \n",
        "\n",
        "---\n",
        "\n",
        "### **2️⃣ Two Pointers**  \n",
        "6. **[Valid Palindrome](https://leetcode.com/problems/valid-palindrome/) (Leetcode 125)** – Check if a string is a palindrome, ignoring non-alphanumeric characters.  \n",
        "7. **[Two Sum II - Input Array Is Sorted](https://leetcode.com/problems/two-sum-ii-input-array-is-sorted/) (Leetcode 167)** – Find two numbers in a sorted array that sum to a target. *(Two-pointer technique!)*  \n",
        "8. **[3Sum](https://leetcode.com/problems/3sum/) (Leetcode 15)** – Find all unique triplets that sum to zero.  \n",
        "9. **[Container With Most Water](https://leetcode.com/problems/container-with-most-water/) (Leetcode 11)** – Maximize water container size using two pointers.  \n",
        "\n",
        "---\n",
        "\n",
        "### **3️⃣ Sliding Window**  \n",
        "10. **[Best Time to Buy and Sell Stock](https://leetcode.com/problems/best-time-to-buy-and-sell-stock/) (Leetcode 121)** – Find the max profit by buying and selling once. *(Single-pass O(n) solution!)*  \n",
        "11. **[Longest Substring Without Repeating Characters](https://leetcode.com/problems/longest-substring-without-repeating-characters/) (Leetcode 3)** – Find the length of the longest unique substring. *(Sliding window with HashSet!)*  \n",
        "12. **[Permutation in String](https://leetcode.com/problems/permutation-in-string/) (Leetcode 567)** – Check if a string’s permutation exists in another string. *(Sliding window with frequency count!)*  \n",
        "13. **[Minimum Window Substring](https://leetcode.com/problems/minimum-window-substring/) (Leetcode 76) 🔥** – Hard but **very common** question! *(Sliding window with two maps!)*  \n",
        "\n",
        "---\n",
        "\n",
        "### **4️⃣ Stack / Monotonic Stack**  \n",
        "14. **[Valid Parentheses](https://leetcode.com/problems/valid-parentheses/) (Leetcode 20)** – Check if a string contains valid parentheses. *(Stack-based solution!)*  \n",
        "15. **[Min Stack](https://leetcode.com/problems/min-stack/) (Leetcode 155)** – Implement a stack that supports `min()` in O(1).  \n",
        "16. **[Daily Temperatures](https://leetcode.com/problems/daily-temperatures/) (Leetcode 739)** – Find the next warmer temperature. *(Monotonic Stack!)*  \n",
        "\n",
        "---\n",
        "\n",
        "### **5️⃣ Binary Search**  \n",
        "17. **[Binary Search](https://leetcode.com/problems/binary-search/) (Leetcode 704)** – Implement binary search.  \n",
        "18. **[Search in Rotated Sorted Array](https://leetcode.com/problems/search-in-rotated-sorted-array/) (Leetcode 33)** – Find a target in a rotated sorted array. *(Modified Binary Search!)*  \n",
        "19. **[Find Minimum in Rotated Sorted Array](https://leetcode.com/problems/find-minimum-in-rotated-sorted-array/) (Leetcode 153)** – Find the minimum element in a rotated sorted array.  \n",
        "\n",
        "---\n",
        "\n",
        "### **6️⃣ Linked List**  \n",
        "20. **[Reverse a Linked List](https://leetcode.com/problems/reverse-linked-list/) (Leetcode 206)** – Reverse a linked list iteratively and recursively.  \n",
        "21. **[Merge Two Sorted Lists](https://leetcode.com/problems/merge-two-sorted-lists/) (Leetcode 21)** – Merge two sorted linked lists.  \n",
        "22. **[Cycle Detection in Linked List](https://leetcode.com/problems/linked-list-cycle/) (Leetcode 141)** – Detect if a linked list has a cycle. *(Use Floyd’s Cycle Detection - Fast & Slow pointers!)*  \n",
        "\n",
        "---\n",
        "\n",
        "### **7️⃣ Trees & Graphs**  \n",
        "23. **[Invert Binary Tree](https://leetcode.com/problems/invert-binary-tree/) (Leetcode 226)** – Flip a binary tree upside down.  \n",
        "24. **[Maximum Depth of Binary Tree](https://leetcode.com/problems/maximum-depth-of-binary-tree/) (Leetcode 104)** – Find the maximum depth of a binary tree. *(DFS/BFS approach!)*  \n",
        "25. **[Lowest Common Ancestor of a BST](https://leetcode.com/problems/lowest-common-ancestor-of-a-binary-search-tree/) (Leetcode 235)** – Find the lowest common ancestor in a BST.  \n",
        "\n",
        "---\n",
        "\n",
        "### **8️⃣ Dynamic Programming (Easy & Medium)**  \n",
        "26. **[Climbing Stairs](https://leetcode.com/problems/climbing-stairs/) (Leetcode 70)** – Solve using Fibonacci-like DP.  \n",
        "27. **[House Robber](https://leetcode.com/problems/house-robber/) (Leetcode 198)** – Solve using DP to maximize sum without robbing adjacent houses.  \n",
        "\n",
        "---\n",
        "\n",
        "### **🔥 Must-Know Hard Problems (If You Have Time!)**  \n",
        "✅ **[Merge Intervals](https://leetcode.com/problems/merge-intervals/) (Leetcode 56)** – Merge overlapping intervals.  \n",
        "✅ **[Word Break](https://leetcode.com/problems/word-break/) (Leetcode 139)** – Check if a word can be segmented using a dictionary.  \n",
        "✅ **[Trapping Rain Water](https://leetcode.com/problems/trapping-rain-water/) (Leetcode 42)** – Classic two-pointer/stack problem.  \n",
        "\n",
        "\n",
        "\n",
        "Here are the **best** LeetCode coding questions for **Lists (Arrays) and Strings**, categorized by difficulty and concept.  \n",
        "\n",
        "---\n",
        "\n",
        "## **🔥 Easy Level Problems (Beginner-Friendly)**\n",
        "### **Arrays (Lists)**\n",
        "1. **[Two Sum](https://leetcode.com/problems/two-sum/) (Leetcode 1)** – Find two numbers that sum to a target (Use HashMap for O(n) solution).  \n",
        "2. **[Remove Duplicates from Sorted Array](https://leetcode.com/problems/remove-duplicates-from-sorted-array/) (Leetcode 26)** – Remove duplicates in-place.  \n",
        "3. **[Remove Element](https://leetcode.com/problems/remove-element/) (Leetcode 27)** – Remove all occurrences of a specific element.  \n",
        "4. **[Merge Sorted Array](https://leetcode.com/problems/merge-sorted-array/) (Leetcode 88)** – Merge two sorted arrays in-place.  \n",
        "5. **[Best Time to Buy and Sell Stock](https://leetcode.com/problems/best-time-to-buy-and-sell-stock/) (Leetcode 121)** – Find the max profit by buying and selling a stock once.  \n",
        "6. **[Contains Duplicate](https://leetcode.com/problems/contains-duplicate/) (Leetcode 217)** – Check if an array contains duplicates.  \n",
        "7. **[Move Zeroes](https://leetcode.com/problems/move-zeroes/) (Leetcode 283)** – Move all zeroes to the end while maintaining order.  \n",
        "8. **[Plus One](https://leetcode.com/problems/plus-one/) (Leetcode 66)** – Increment a number represented as a list of digits.  \n",
        "9. **[Intersection of Two Arrays](https://leetcode.com/problems/intersection-of-two-arrays/) (Leetcode 349)** – Find common elements in two arrays.  \n",
        "10. **[Majority Element](https://leetcode.com/problems/majority-element/) (Leetcode 169)** – Find the element that appears more than `n/2` times.  \n",
        "\n",
        "### **Strings**\n",
        "11. **[Valid Palindrome](https://leetcode.com/problems/valid-palindrome/) (Leetcode 125)** – Check if a string is a palindrome.  \n",
        "12. **[Reverse String](https://leetcode.com/problems/reverse-string/) (Leetcode 344)** – Reverse a string in-place.  \n",
        "13. **[Reverse Words in a String III](https://leetcode.com/problems/reverse-words-in-a-string-iii/) (Leetcode 557)** – Reverse each word in a sentence while keeping their order.  \n",
        "14. **[Implement strStr()](https://leetcode.com/problems/implement-strstr/) (Leetcode 28)** – Find the first occurrence of a substring inside another string.  \n",
        "15. **[Longest Common Prefix](https://leetcode.com/problems/longest-common-prefix/) (Leetcode 14)** – Find the longest common prefix in an array of strings.  \n",
        "16. **[Valid Anagram](https://leetcode.com/problems/valid-anagram/) (Leetcode 242)** – Check if two strings are anagrams.  \n",
        "17. **[First Unique Character in a String](https://leetcode.com/problems/first-unique-character-in-a-string/) (Leetcode 387)** – Find the first non-repeating character.  \n",
        "18. **[To Lower Case](https://leetcode.com/problems/to-lower-case/) (Leetcode 709)** – Convert all uppercase letters to lowercase.  \n",
        "19. **[Defanging an IP Address](https://leetcode.com/problems/defanging-an-ip-address/) (Leetcode 1108)** – Replace `.` in an IP address with `[.]`.  \n",
        "20. **[Shuffle String](https://leetcode.com/problems/shuffle-string/) (Leetcode 1528)** – Rearrange characters in a string based on given indices.  \n",
        "\n",
        "---\n",
        "\n",
        "## **🚀 Medium Level Problems (Interview-Level)**\n",
        "### **Arrays (Lists)**\n",
        "21. **[3Sum](https://leetcode.com/problems/3sum/) (Leetcode 15)** – Find all unique triplets that sum to zero.  \n",
        "22. **[Container With Most Water](https://leetcode.com/problems/container-with-most-water/) (Leetcode 11)** – Maximize water container using two pointers.  \n",
        "23. **[Product of Array Except Self](https://leetcode.com/problems/product-of-array-except-self/) (Leetcode 238)** – Return an array where `result[i]` is the product of all elements except `nums[i]`.  \n",
        "24. **[Maximum Subarray](https://leetcode.com/problems/maximum-subarray/) (Leetcode 53)** – Find the contiguous subarray with the largest sum (Kadane’s Algorithm).  \n",
        "25. **[Sort Colors](https://leetcode.com/problems/sort-colors/) (Leetcode 75)** – Sort an array containing 0s, 1s, and 2s (Dutch National Flag Algorithm).  \n",
        "26. **[Find the Duplicate Number](https://leetcode.com/problems/find-the-duplicate-number/) (Leetcode 287)** – Find the duplicate number in an array.  \n",
        "27. **[Spiral Matrix](https://leetcode.com/problems/spiral-matrix/) (Leetcode 54)** – Return elements of a matrix in spiral order.  \n",
        "28. **[Subarray Sum Equals K](https://leetcode.com/problems/subarray-sum-equals-k/) (Leetcode 560)** – Find the number of subarrays whose sum equals `k`.  \n",
        "\n",
        "### **Strings**\n",
        "29. **[Longest Substring Without Repeating Characters](https://leetcode.com/problems/longest-substring-without-repeating-characters/) (Leetcode 3)** – Find the length of the longest unique substring.  \n",
        "30. **[Group Anagrams](https://leetcode.com/problems/group-anagrams/) (Leetcode 49)** – Group words that are anagrams.  \n",
        "31. **[Multiply Strings](https://leetcode.com/problems/multiply-strings/) (Leetcode 43)** – Multiply two numbers represented as strings.  \n",
        "32. **[Integer to Roman](https://leetcode.com/problems/integer-to-roman/) (Leetcode 12)** – Convert an integer to a Roman numeral.  \n",
        "33. **[Roman to Integer](https://leetcode.com/problems/roman-to-integer/) (Leetcode 13)** – Convert a Roman numeral to an integer.  \n",
        "34. **[Valid Parentheses](https://leetcode.com/problems/valid-parentheses/) (Leetcode 20)** – Check if a string contains valid parentheses.  \n",
        "35. **[Decode String](https://leetcode.com/problems/decode-string/) (Leetcode 394)** – Decode an encoded string following the pattern `\"3[a2[c]]\"` → `\"accaccacc\"`.  \n",
        "36. **[Minimum Window Substring](https://leetcode.com/problems/minimum-window-substring/) (Leetcode 76) 🔥** – Find the smallest substring containing all characters of another string.  \n",
        "37. **[Permutation in String](https://leetcode.com/problems/permutation-in-string/) (Leetcode 567)** – Check if a permutation of `s1` exists in `s2`.  \n",
        "\n",
        "---\n",
        "\n",
        "## **💀 Hard Level Problems (Advanced Interviews)**\n",
        "### **Arrays (Lists)**\n",
        "38. **[Trapping Rain Water](https://leetcode.com/problems/trapping-rain-water/) (Leetcode 42)** – Calculate trapped water between bars (Two-pointer technique).  \n",
        "39. **[Median of Two Sorted Arrays](https://leetcode.com/problems/median-of-two-sorted-arrays/) (Leetcode 4)** – Find the median of two sorted arrays (Binary search-based approach).  \n",
        "40. **[First Missing Positive](https://leetcode.com/problems/first-missing-positive/) (Leetcode 41)** – Find the smallest missing positive integer.  \n",
        "\n",
        "### **Strings**\n",
        "41. **[Palindrome Partitioning](https://leetcode.com/problems/palindrome-partitioning/) (Leetcode 131)** – Partition a string into palindromic substrings.  \n",
        "42. **[Edit Distance](https://leetcode.com/problems/edit-distance/) (Leetcode 72)** – Find the minimum number of operations to convert one string into another.  \n",
        "43. **[Word Ladder](https://leetcode.com/problems/word-ladder/) (Leetcode 127)** – Find the shortest transformation sequence between two words.  \n",
        "\n",
        "---\n"
      ],
      "metadata": {
        "id": "jP5BEBL3XZK0"
      }
    },
    {
      "cell_type": "markdown",
      "source": [
        "# Sorting"
      ],
      "metadata": {
        "id": "euKbKprpcPLt"
      }
    },
    {
      "cell_type": "markdown",
      "source": [
        "## Bubble Sort"
      ],
      "metadata": {
        "id": "6NElZWHscQ62"
      }
    },
    {
      "cell_type": "code",
      "source": [
        "def bubble_sort(arr):\n",
        "    n = len(arr)\n",
        "    # Traverse through all elements in the list\n",
        "    for i in range(n):\n",
        "        # Last i elements are already sorted, so we don't need to check them\n",
        "        for j in range(0, n-i-1):\n",
        "            # Swap if the element found is greater than the next element\n",
        "            if arr[j] > arr[j+1]:\n",
        "                arr[j], arr[j+1] = arr[j+1], arr[j]\n",
        "\n",
        "# Example usage\n",
        "arr = [64, 34, 25, 12, 22, 11, 90]\n",
        "bubble_sort(arr)\n",
        "print(\"Sorted array:\", arr)\n"
      ],
      "metadata": {
        "colab": {
          "base_uri": "https://localhost:8080/"
        },
        "id": "NQRJ_xZUcSv1",
        "outputId": "8c8c0b0d-a64b-42e6-d74c-6e05842c44c1"
      },
      "execution_count": null,
      "outputs": [
        {
          "output_type": "stream",
          "name": "stdout",
          "text": [
            "i= 0\n",
            "J=  0\n",
            "J=  1\n",
            "J=  2\n",
            "J=  3\n",
            "J=  4\n",
            "J=  5\n",
            "i= 1\n",
            "J=  0\n",
            "J=  1\n",
            "J=  2\n",
            "J=  3\n",
            "J=  4\n",
            "i= 2\n",
            "J=  0\n",
            "J=  1\n",
            "J=  2\n",
            "J=  3\n",
            "i= 3\n",
            "J=  0\n",
            "J=  1\n",
            "J=  2\n",
            "i= 4\n",
            "J=  0\n",
            "J=  1\n",
            "i= 5\n",
            "J=  0\n",
            "i= 6\n",
            "Sorted array: [11, 12, 22, 25, 34, 64, 90]\n"
          ]
        }
      ]
    },
    {
      "cell_type": "markdown",
      "source": [
        "## Selection sort"
      ],
      "metadata": {
        "id": "wCCW4XWVmKs7"
      }
    },
    {
      "cell_type": "code",
      "source": [
        "def selection_sort(arr):\n",
        "    n = len(arr)\n",
        "\n",
        "    # Move through the entire array\n",
        "    for i in range(n):\n",
        "        # Find the minimum element in the unsorted part of the array\n",
        "        min_index = i\n",
        "        for j in range(i+1, n):\n",
        "            if arr[j] < arr[min_index]:\n",
        "                min_index = j\n",
        "\n",
        "        # Swap the found minimum element with the first element of the unsorted part\n",
        "        arr[i], arr[min_index] = arr[min_index], arr[i]\n",
        "\n",
        "# Example usage\n",
        "arr = [64, 34, 25, 12, 22, 11, 90]\n",
        "selection_sort(arr)\n",
        "print(\"Sorted array:\", arr)"
      ],
      "metadata": {
        "id": "wFgrg9P2mMUK",
        "outputId": "7781a2d8-8db8-4f21-d99d-f55cb261b8e9",
        "colab": {
          "base_uri": "https://localhost:8080/"
        }
      },
      "execution_count": null,
      "outputs": [
        {
          "output_type": "stream",
          "name": "stdout",
          "text": [
            "Sorted array: [11, 12, 22, 25, 34, 64, 90]\n"
          ]
        }
      ]
    },
    {
      "cell_type": "code",
      "source": [
        "def is_palindrome(s):\n",
        "  i = 0\n",
        "  j= len(s)-1\n",
        "\n",
        "  while i < j:\n",
        "    if s[i] != s[j]:\n",
        "      return False\n",
        "    i += 1\n",
        "    j -= 1\n",
        "\n",
        "  return True\n",
        "\n",
        "def is_symetrical(s):\n",
        "  i = 0\n",
        "  j = len(s)// 2\n",
        "\n",
        "  while j < len(s):\n",
        "    if s[i] != s[j]:\n",
        "      return False\n",
        "    i += 1\n",
        "    j += 1\n",
        "\n",
        "  return True\n",
        "\n",
        "print(is_palindrome(\"khokho\"))\n",
        "print(is_symetrical(\"khokho\"))\n",
        "\n",
        "\n",
        "\n"
      ],
      "metadata": {
        "colab": {
          "base_uri": "https://localhost:8080/"
        },
        "id": "OzZJe2fgFc1D",
        "outputId": "1cbdafca-5d28-4f3b-af92-6ef60fe4d7d5"
      },
      "execution_count": null,
      "outputs": [
        {
          "output_type": "stream",
          "name": "stdout",
          "text": [
            "False\n",
            "True\n"
          ]
        }
      ]
    }
  ]
}